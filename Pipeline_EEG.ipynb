{
  "nbformat": 4,
  "nbformat_minor": 0,
  "metadata": {
    "colab": {
      "provenance": [],
      "machine_shape": "hm",
      "gpuType": "A100",
      "include_colab_link": true
    },
    "kernelspec": {
      "name": "python3",
      "display_name": "Python 3"
    },
    "language_info": {
      "name": "python"
    },
    "accelerator": "GPU",
    "widgets": {
      "application/vnd.jupyter.widget-state+json": {
        "a471117e3248444682d2de6c2d22c4a8": {
          "model_module": "@jupyter-widgets/controls",
          "model_name": "VBoxModel",
          "model_module_version": "1.5.0",
          "state": {
            "_dom_classes": [],
            "_model_module": "@jupyter-widgets/controls",
            "_model_module_version": "1.5.0",
            "_model_name": "VBoxModel",
            "_view_count": null,
            "_view_module": "@jupyter-widgets/controls",
            "_view_module_version": "1.5.0",
            "_view_name": "VBoxView",
            "box_style": "",
            "children": [
              "IPY_MODEL_36e5e4ce529848899a669e75e9ee883a",
              "IPY_MODEL_52db7e081bcf450f9cc6b717c78befd7"
            ],
            "layout": "IPY_MODEL_537660d375394281975630270bc2cfcb"
          }
        },
        "36e5e4ce529848899a669e75e9ee883a": {
          "model_module": "@jupyter-widgets/controls",
          "model_name": "LabelModel",
          "model_module_version": "1.5.0",
          "state": {
            "_dom_classes": [],
            "_model_module": "@jupyter-widgets/controls",
            "_model_module_version": "1.5.0",
            "_model_name": "LabelModel",
            "_view_count": null,
            "_view_module": "@jupyter-widgets/controls",
            "_view_module_version": "1.5.0",
            "_view_name": "LabelView",
            "description": "",
            "description_tooltip": null,
            "layout": "IPY_MODEL_ba5931f6c6b84e8db38baddc1051ab6a",
            "placeholder": "​",
            "style": "IPY_MODEL_db7c50b01d9b4fd8b9e7d586f7c1a0cc",
            "value": "Waiting for wandb.init()...\r"
          }
        },
        "52db7e081bcf450f9cc6b717c78befd7": {
          "model_module": "@jupyter-widgets/controls",
          "model_name": "FloatProgressModel",
          "model_module_version": "1.5.0",
          "state": {
            "_dom_classes": [],
            "_model_module": "@jupyter-widgets/controls",
            "_model_module_version": "1.5.0",
            "_model_name": "FloatProgressModel",
            "_view_count": null,
            "_view_module": "@jupyter-widgets/controls",
            "_view_module_version": "1.5.0",
            "_view_name": "ProgressView",
            "bar_style": "",
            "description": "",
            "description_tooltip": null,
            "layout": "IPY_MODEL_9c528cb76c1848a8b4f7911f4c91847c",
            "max": 1,
            "min": 0,
            "orientation": "horizontal",
            "style": "IPY_MODEL_6952bef68596445e8234127d3510d0d8",
            "value": 1
          }
        },
        "537660d375394281975630270bc2cfcb": {
          "model_module": "@jupyter-widgets/base",
          "model_name": "LayoutModel",
          "model_module_version": "1.2.0",
          "state": {
            "_model_module": "@jupyter-widgets/base",
            "_model_module_version": "1.2.0",
            "_model_name": "LayoutModel",
            "_view_count": null,
            "_view_module": "@jupyter-widgets/base",
            "_view_module_version": "1.2.0",
            "_view_name": "LayoutView",
            "align_content": null,
            "align_items": null,
            "align_self": null,
            "border": null,
            "bottom": null,
            "display": null,
            "flex": null,
            "flex_flow": null,
            "grid_area": null,
            "grid_auto_columns": null,
            "grid_auto_flow": null,
            "grid_auto_rows": null,
            "grid_column": null,
            "grid_gap": null,
            "grid_row": null,
            "grid_template_areas": null,
            "grid_template_columns": null,
            "grid_template_rows": null,
            "height": null,
            "justify_content": null,
            "justify_items": null,
            "left": null,
            "margin": null,
            "max_height": null,
            "max_width": null,
            "min_height": null,
            "min_width": null,
            "object_fit": null,
            "object_position": null,
            "order": null,
            "overflow": null,
            "overflow_x": null,
            "overflow_y": null,
            "padding": null,
            "right": null,
            "top": null,
            "visibility": null,
            "width": null
          }
        },
        "ba5931f6c6b84e8db38baddc1051ab6a": {
          "model_module": "@jupyter-widgets/base",
          "model_name": "LayoutModel",
          "model_module_version": "1.2.0",
          "state": {
            "_model_module": "@jupyter-widgets/base",
            "_model_module_version": "1.2.0",
            "_model_name": "LayoutModel",
            "_view_count": null,
            "_view_module": "@jupyter-widgets/base",
            "_view_module_version": "1.2.0",
            "_view_name": "LayoutView",
            "align_content": null,
            "align_items": null,
            "align_self": null,
            "border": null,
            "bottom": null,
            "display": null,
            "flex": null,
            "flex_flow": null,
            "grid_area": null,
            "grid_auto_columns": null,
            "grid_auto_flow": null,
            "grid_auto_rows": null,
            "grid_column": null,
            "grid_gap": null,
            "grid_row": null,
            "grid_template_areas": null,
            "grid_template_columns": null,
            "grid_template_rows": null,
            "height": null,
            "justify_content": null,
            "justify_items": null,
            "left": null,
            "margin": null,
            "max_height": null,
            "max_width": null,
            "min_height": null,
            "min_width": null,
            "object_fit": null,
            "object_position": null,
            "order": null,
            "overflow": null,
            "overflow_x": null,
            "overflow_y": null,
            "padding": null,
            "right": null,
            "top": null,
            "visibility": null,
            "width": null
          }
        },
        "db7c50b01d9b4fd8b9e7d586f7c1a0cc": {
          "model_module": "@jupyter-widgets/controls",
          "model_name": "DescriptionStyleModel",
          "model_module_version": "1.5.0",
          "state": {
            "_model_module": "@jupyter-widgets/controls",
            "_model_module_version": "1.5.0",
            "_model_name": "DescriptionStyleModel",
            "_view_count": null,
            "_view_module": "@jupyter-widgets/base",
            "_view_module_version": "1.2.0",
            "_view_name": "StyleView",
            "description_width": ""
          }
        },
        "9c528cb76c1848a8b4f7911f4c91847c": {
          "model_module": "@jupyter-widgets/base",
          "model_name": "LayoutModel",
          "model_module_version": "1.2.0",
          "state": {
            "_model_module": "@jupyter-widgets/base",
            "_model_module_version": "1.2.0",
            "_model_name": "LayoutModel",
            "_view_count": null,
            "_view_module": "@jupyter-widgets/base",
            "_view_module_version": "1.2.0",
            "_view_name": "LayoutView",
            "align_content": null,
            "align_items": null,
            "align_self": null,
            "border": null,
            "bottom": null,
            "display": null,
            "flex": null,
            "flex_flow": null,
            "grid_area": null,
            "grid_auto_columns": null,
            "grid_auto_flow": null,
            "grid_auto_rows": null,
            "grid_column": null,
            "grid_gap": null,
            "grid_row": null,
            "grid_template_areas": null,
            "grid_template_columns": null,
            "grid_template_rows": null,
            "height": null,
            "justify_content": null,
            "justify_items": null,
            "left": null,
            "margin": null,
            "max_height": null,
            "max_width": null,
            "min_height": null,
            "min_width": null,
            "object_fit": null,
            "object_position": null,
            "order": null,
            "overflow": null,
            "overflow_x": null,
            "overflow_y": null,
            "padding": null,
            "right": null,
            "top": null,
            "visibility": null,
            "width": null
          }
        },
        "6952bef68596445e8234127d3510d0d8": {
          "model_module": "@jupyter-widgets/controls",
          "model_name": "ProgressStyleModel",
          "model_module_version": "1.5.0",
          "state": {
            "_model_module": "@jupyter-widgets/controls",
            "_model_module_version": "1.5.0",
            "_model_name": "ProgressStyleModel",
            "_view_count": null,
            "_view_module": "@jupyter-widgets/base",
            "_view_module_version": "1.2.0",
            "_view_name": "StyleView",
            "bar_color": null,
            "description_width": ""
          }
        },
        "857afccc3c2f45f2a11043a59d16e394": {
          "model_module": "@jupyter-widgets/controls",
          "model_name": "VBoxModel",
          "model_module_version": "1.5.0",
          "state": {
            "_dom_classes": [],
            "_model_module": "@jupyter-widgets/controls",
            "_model_module_version": "1.5.0",
            "_model_name": "VBoxModel",
            "_view_count": null,
            "_view_module": "@jupyter-widgets/controls",
            "_view_module_version": "1.5.0",
            "_view_name": "VBoxView",
            "box_style": "",
            "children": [
              "IPY_MODEL_d2819d95636e4a4fae1d418952436bf9",
              "IPY_MODEL_ad211b5ba40945d0b50dd03a1ab09ce8"
            ],
            "layout": "IPY_MODEL_2671af304fa64661ad382f99ad12077a"
          }
        },
        "d2819d95636e4a4fae1d418952436bf9": {
          "model_module": "@jupyter-widgets/controls",
          "model_name": "LabelModel",
          "model_module_version": "1.5.0",
          "state": {
            "_dom_classes": [],
            "_model_module": "@jupyter-widgets/controls",
            "_model_module_version": "1.5.0",
            "_model_name": "LabelModel",
            "_view_count": null,
            "_view_module": "@jupyter-widgets/controls",
            "_view_module_version": "1.5.0",
            "_view_name": "LabelView",
            "description": "",
            "description_tooltip": null,
            "layout": "IPY_MODEL_8cb5008c357e4cbd89f0985c4918fb43",
            "placeholder": "​",
            "style": "IPY_MODEL_dc45a58ad46b476ba0045a06f0358a08",
            "value": "11.741 MB of 11.741 MB uploaded (0.001 MB deduped)\r"
          }
        },
        "ad211b5ba40945d0b50dd03a1ab09ce8": {
          "model_module": "@jupyter-widgets/controls",
          "model_name": "FloatProgressModel",
          "model_module_version": "1.5.0",
          "state": {
            "_dom_classes": [],
            "_model_module": "@jupyter-widgets/controls",
            "_model_module_version": "1.5.0",
            "_model_name": "FloatProgressModel",
            "_view_count": null,
            "_view_module": "@jupyter-widgets/controls",
            "_view_module_version": "1.5.0",
            "_view_name": "ProgressView",
            "bar_style": "",
            "description": "",
            "description_tooltip": null,
            "layout": "IPY_MODEL_8c6c8b6e85054cf999f47f6a7f3e5614",
            "max": 1,
            "min": 0,
            "orientation": "horizontal",
            "style": "IPY_MODEL_641c35ee97b44b8d8e151f23993bf336",
            "value": 1
          }
        },
        "2671af304fa64661ad382f99ad12077a": {
          "model_module": "@jupyter-widgets/base",
          "model_name": "LayoutModel",
          "model_module_version": "1.2.0",
          "state": {
            "_model_module": "@jupyter-widgets/base",
            "_model_module_version": "1.2.0",
            "_model_name": "LayoutModel",
            "_view_count": null,
            "_view_module": "@jupyter-widgets/base",
            "_view_module_version": "1.2.0",
            "_view_name": "LayoutView",
            "align_content": null,
            "align_items": null,
            "align_self": null,
            "border": null,
            "bottom": null,
            "display": null,
            "flex": null,
            "flex_flow": null,
            "grid_area": null,
            "grid_auto_columns": null,
            "grid_auto_flow": null,
            "grid_auto_rows": null,
            "grid_column": null,
            "grid_gap": null,
            "grid_row": null,
            "grid_template_areas": null,
            "grid_template_columns": null,
            "grid_template_rows": null,
            "height": null,
            "justify_content": null,
            "justify_items": null,
            "left": null,
            "margin": null,
            "max_height": null,
            "max_width": null,
            "min_height": null,
            "min_width": null,
            "object_fit": null,
            "object_position": null,
            "order": null,
            "overflow": null,
            "overflow_x": null,
            "overflow_y": null,
            "padding": null,
            "right": null,
            "top": null,
            "visibility": null,
            "width": null
          }
        },
        "8cb5008c357e4cbd89f0985c4918fb43": {
          "model_module": "@jupyter-widgets/base",
          "model_name": "LayoutModel",
          "model_module_version": "1.2.0",
          "state": {
            "_model_module": "@jupyter-widgets/base",
            "_model_module_version": "1.2.0",
            "_model_name": "LayoutModel",
            "_view_count": null,
            "_view_module": "@jupyter-widgets/base",
            "_view_module_version": "1.2.0",
            "_view_name": "LayoutView",
            "align_content": null,
            "align_items": null,
            "align_self": null,
            "border": null,
            "bottom": null,
            "display": null,
            "flex": null,
            "flex_flow": null,
            "grid_area": null,
            "grid_auto_columns": null,
            "grid_auto_flow": null,
            "grid_auto_rows": null,
            "grid_column": null,
            "grid_gap": null,
            "grid_row": null,
            "grid_template_areas": null,
            "grid_template_columns": null,
            "grid_template_rows": null,
            "height": null,
            "justify_content": null,
            "justify_items": null,
            "left": null,
            "margin": null,
            "max_height": null,
            "max_width": null,
            "min_height": null,
            "min_width": null,
            "object_fit": null,
            "object_position": null,
            "order": null,
            "overflow": null,
            "overflow_x": null,
            "overflow_y": null,
            "padding": null,
            "right": null,
            "top": null,
            "visibility": null,
            "width": null
          }
        },
        "dc45a58ad46b476ba0045a06f0358a08": {
          "model_module": "@jupyter-widgets/controls",
          "model_name": "DescriptionStyleModel",
          "model_module_version": "1.5.0",
          "state": {
            "_model_module": "@jupyter-widgets/controls",
            "_model_module_version": "1.5.0",
            "_model_name": "DescriptionStyleModel",
            "_view_count": null,
            "_view_module": "@jupyter-widgets/base",
            "_view_module_version": "1.2.0",
            "_view_name": "StyleView",
            "description_width": ""
          }
        },
        "8c6c8b6e85054cf999f47f6a7f3e5614": {
          "model_module": "@jupyter-widgets/base",
          "model_name": "LayoutModel",
          "model_module_version": "1.2.0",
          "state": {
            "_model_module": "@jupyter-widgets/base",
            "_model_module_version": "1.2.0",
            "_model_name": "LayoutModel",
            "_view_count": null,
            "_view_module": "@jupyter-widgets/base",
            "_view_module_version": "1.2.0",
            "_view_name": "LayoutView",
            "align_content": null,
            "align_items": null,
            "align_self": null,
            "border": null,
            "bottom": null,
            "display": null,
            "flex": null,
            "flex_flow": null,
            "grid_area": null,
            "grid_auto_columns": null,
            "grid_auto_flow": null,
            "grid_auto_rows": null,
            "grid_column": null,
            "grid_gap": null,
            "grid_row": null,
            "grid_template_areas": null,
            "grid_template_columns": null,
            "grid_template_rows": null,
            "height": null,
            "justify_content": null,
            "justify_items": null,
            "left": null,
            "margin": null,
            "max_height": null,
            "max_width": null,
            "min_height": null,
            "min_width": null,
            "object_fit": null,
            "object_position": null,
            "order": null,
            "overflow": null,
            "overflow_x": null,
            "overflow_y": null,
            "padding": null,
            "right": null,
            "top": null,
            "visibility": null,
            "width": null
          }
        },
        "641c35ee97b44b8d8e151f23993bf336": {
          "model_module": "@jupyter-widgets/controls",
          "model_name": "ProgressStyleModel",
          "model_module_version": "1.5.0",
          "state": {
            "_model_module": "@jupyter-widgets/controls",
            "_model_module_version": "1.5.0",
            "_model_name": "ProgressStyleModel",
            "_view_count": null,
            "_view_module": "@jupyter-widgets/base",
            "_view_module_version": "1.2.0",
            "_view_name": "StyleView",
            "bar_color": null,
            "description_width": ""
          }
        },
        "d41cee910bed443a8345b985894fffd3": {
          "model_module": "@jupyter-widgets/controls",
          "model_name": "VBoxModel",
          "model_module_version": "1.5.0",
          "state": {
            "_dom_classes": [],
            "_model_module": "@jupyter-widgets/controls",
            "_model_module_version": "1.5.0",
            "_model_name": "VBoxModel",
            "_view_count": null,
            "_view_module": "@jupyter-widgets/controls",
            "_view_module_version": "1.5.0",
            "_view_name": "VBoxView",
            "box_style": "",
            "children": [
              "IPY_MODEL_cf6ec4d94ed34425a8e8840df66b3fcf",
              "IPY_MODEL_b13c5b5f200c42389a39406589a2f7dc"
            ],
            "layout": "IPY_MODEL_6b9f1d5481524cbcacb6965195b0da37"
          }
        },
        "cf6ec4d94ed34425a8e8840df66b3fcf": {
          "model_module": "@jupyter-widgets/controls",
          "model_name": "LabelModel",
          "model_module_version": "1.5.0",
          "state": {
            "_dom_classes": [],
            "_model_module": "@jupyter-widgets/controls",
            "_model_module_version": "1.5.0",
            "_model_name": "LabelModel",
            "_view_count": null,
            "_view_module": "@jupyter-widgets/controls",
            "_view_module_version": "1.5.0",
            "_view_name": "LabelView",
            "description": "",
            "description_tooltip": null,
            "layout": "IPY_MODEL_7dc262756abe4e5dad92b0b0e01fe952",
            "placeholder": "​",
            "style": "IPY_MODEL_31994236132a49c29b98da3f0558e306",
            "value": "4.352 MB of 4.352 MB uploaded (0.001 MB deduped)\r"
          }
        },
        "b13c5b5f200c42389a39406589a2f7dc": {
          "model_module": "@jupyter-widgets/controls",
          "model_name": "FloatProgressModel",
          "model_module_version": "1.5.0",
          "state": {
            "_dom_classes": [],
            "_model_module": "@jupyter-widgets/controls",
            "_model_module_version": "1.5.0",
            "_model_name": "FloatProgressModel",
            "_view_count": null,
            "_view_module": "@jupyter-widgets/controls",
            "_view_module_version": "1.5.0",
            "_view_name": "ProgressView",
            "bar_style": "",
            "description": "",
            "description_tooltip": null,
            "layout": "IPY_MODEL_100601505e0d4a028d7102b7d28b4264",
            "max": 1,
            "min": 0,
            "orientation": "horizontal",
            "style": "IPY_MODEL_e2b0996e5def467eb2ecf5b1a1c8b5ae",
            "value": 1
          }
        },
        "6b9f1d5481524cbcacb6965195b0da37": {
          "model_module": "@jupyter-widgets/base",
          "model_name": "LayoutModel",
          "model_module_version": "1.2.0",
          "state": {
            "_model_module": "@jupyter-widgets/base",
            "_model_module_version": "1.2.0",
            "_model_name": "LayoutModel",
            "_view_count": null,
            "_view_module": "@jupyter-widgets/base",
            "_view_module_version": "1.2.0",
            "_view_name": "LayoutView",
            "align_content": null,
            "align_items": null,
            "align_self": null,
            "border": null,
            "bottom": null,
            "display": null,
            "flex": null,
            "flex_flow": null,
            "grid_area": null,
            "grid_auto_columns": null,
            "grid_auto_flow": null,
            "grid_auto_rows": null,
            "grid_column": null,
            "grid_gap": null,
            "grid_row": null,
            "grid_template_areas": null,
            "grid_template_columns": null,
            "grid_template_rows": null,
            "height": null,
            "justify_content": null,
            "justify_items": null,
            "left": null,
            "margin": null,
            "max_height": null,
            "max_width": null,
            "min_height": null,
            "min_width": null,
            "object_fit": null,
            "object_position": null,
            "order": null,
            "overflow": null,
            "overflow_x": null,
            "overflow_y": null,
            "padding": null,
            "right": null,
            "top": null,
            "visibility": null,
            "width": null
          }
        },
        "7dc262756abe4e5dad92b0b0e01fe952": {
          "model_module": "@jupyter-widgets/base",
          "model_name": "LayoutModel",
          "model_module_version": "1.2.0",
          "state": {
            "_model_module": "@jupyter-widgets/base",
            "_model_module_version": "1.2.0",
            "_model_name": "LayoutModel",
            "_view_count": null,
            "_view_module": "@jupyter-widgets/base",
            "_view_module_version": "1.2.0",
            "_view_name": "LayoutView",
            "align_content": null,
            "align_items": null,
            "align_self": null,
            "border": null,
            "bottom": null,
            "display": null,
            "flex": null,
            "flex_flow": null,
            "grid_area": null,
            "grid_auto_columns": null,
            "grid_auto_flow": null,
            "grid_auto_rows": null,
            "grid_column": null,
            "grid_gap": null,
            "grid_row": null,
            "grid_template_areas": null,
            "grid_template_columns": null,
            "grid_template_rows": null,
            "height": null,
            "justify_content": null,
            "justify_items": null,
            "left": null,
            "margin": null,
            "max_height": null,
            "max_width": null,
            "min_height": null,
            "min_width": null,
            "object_fit": null,
            "object_position": null,
            "order": null,
            "overflow": null,
            "overflow_x": null,
            "overflow_y": null,
            "padding": null,
            "right": null,
            "top": null,
            "visibility": null,
            "width": null
          }
        },
        "31994236132a49c29b98da3f0558e306": {
          "model_module": "@jupyter-widgets/controls",
          "model_name": "DescriptionStyleModel",
          "model_module_version": "1.5.0",
          "state": {
            "_model_module": "@jupyter-widgets/controls",
            "_model_module_version": "1.5.0",
            "_model_name": "DescriptionStyleModel",
            "_view_count": null,
            "_view_module": "@jupyter-widgets/base",
            "_view_module_version": "1.2.0",
            "_view_name": "StyleView",
            "description_width": ""
          }
        },
        "100601505e0d4a028d7102b7d28b4264": {
          "model_module": "@jupyter-widgets/base",
          "model_name": "LayoutModel",
          "model_module_version": "1.2.0",
          "state": {
            "_model_module": "@jupyter-widgets/base",
            "_model_module_version": "1.2.0",
            "_model_name": "LayoutModel",
            "_view_count": null,
            "_view_module": "@jupyter-widgets/base",
            "_view_module_version": "1.2.0",
            "_view_name": "LayoutView",
            "align_content": null,
            "align_items": null,
            "align_self": null,
            "border": null,
            "bottom": null,
            "display": null,
            "flex": null,
            "flex_flow": null,
            "grid_area": null,
            "grid_auto_columns": null,
            "grid_auto_flow": null,
            "grid_auto_rows": null,
            "grid_column": null,
            "grid_gap": null,
            "grid_row": null,
            "grid_template_areas": null,
            "grid_template_columns": null,
            "grid_template_rows": null,
            "height": null,
            "justify_content": null,
            "justify_items": null,
            "left": null,
            "margin": null,
            "max_height": null,
            "max_width": null,
            "min_height": null,
            "min_width": null,
            "object_fit": null,
            "object_position": null,
            "order": null,
            "overflow": null,
            "overflow_x": null,
            "overflow_y": null,
            "padding": null,
            "right": null,
            "top": null,
            "visibility": null,
            "width": null
          }
        },
        "e2b0996e5def467eb2ecf5b1a1c8b5ae": {
          "model_module": "@jupyter-widgets/controls",
          "model_name": "ProgressStyleModel",
          "model_module_version": "1.5.0",
          "state": {
            "_model_module": "@jupyter-widgets/controls",
            "_model_module_version": "1.5.0",
            "_model_name": "ProgressStyleModel",
            "_view_count": null,
            "_view_module": "@jupyter-widgets/base",
            "_view_module_version": "1.2.0",
            "_view_name": "StyleView",
            "bar_color": null,
            "description_width": ""
          }
        },
        "d8782c5a078c48908edf22c31c9ee601": {
          "model_module": "@jupyter-widgets/controls",
          "model_name": "VBoxModel",
          "model_module_version": "1.5.0",
          "state": {
            "_dom_classes": [],
            "_model_module": "@jupyter-widgets/controls",
            "_model_module_version": "1.5.0",
            "_model_name": "VBoxModel",
            "_view_count": null,
            "_view_module": "@jupyter-widgets/controls",
            "_view_module_version": "1.5.0",
            "_view_name": "VBoxView",
            "box_style": "",
            "children": [
              "IPY_MODEL_8280b02ecedc4d25ab3958130f77d8e8",
              "IPY_MODEL_4eb03e1f53ea42ca9b94d84221ad0b8c"
            ],
            "layout": "IPY_MODEL_d58d2cc7f4614a2cb9452ec2cd7d6bea"
          }
        },
        "8280b02ecedc4d25ab3958130f77d8e8": {
          "model_module": "@jupyter-widgets/controls",
          "model_name": "LabelModel",
          "model_module_version": "1.5.0",
          "state": {
            "_dom_classes": [],
            "_model_module": "@jupyter-widgets/controls",
            "_model_module_version": "1.5.0",
            "_model_name": "LabelModel",
            "_view_count": null,
            "_view_module": "@jupyter-widgets/controls",
            "_view_module_version": "1.5.0",
            "_view_name": "LabelView",
            "description": "",
            "description_tooltip": null,
            "layout": "IPY_MODEL_043aa386ef154966943c377276c84ee0",
            "placeholder": "​",
            "style": "IPY_MODEL_bde93275067748fda913661db782c08c",
            "value": "4.045 MB of 4.045 MB uploaded (0.001 MB deduped)\r"
          }
        },
        "4eb03e1f53ea42ca9b94d84221ad0b8c": {
          "model_module": "@jupyter-widgets/controls",
          "model_name": "FloatProgressModel",
          "model_module_version": "1.5.0",
          "state": {
            "_dom_classes": [],
            "_model_module": "@jupyter-widgets/controls",
            "_model_module_version": "1.5.0",
            "_model_name": "FloatProgressModel",
            "_view_count": null,
            "_view_module": "@jupyter-widgets/controls",
            "_view_module_version": "1.5.0",
            "_view_name": "ProgressView",
            "bar_style": "",
            "description": "",
            "description_tooltip": null,
            "layout": "IPY_MODEL_7c144efc8855413888d89f713acb51de",
            "max": 1,
            "min": 0,
            "orientation": "horizontal",
            "style": "IPY_MODEL_3e0988b09a2c46f3b558367d2837bd09",
            "value": 1
          }
        },
        "d58d2cc7f4614a2cb9452ec2cd7d6bea": {
          "model_module": "@jupyter-widgets/base",
          "model_name": "LayoutModel",
          "model_module_version": "1.2.0",
          "state": {
            "_model_module": "@jupyter-widgets/base",
            "_model_module_version": "1.2.0",
            "_model_name": "LayoutModel",
            "_view_count": null,
            "_view_module": "@jupyter-widgets/base",
            "_view_module_version": "1.2.0",
            "_view_name": "LayoutView",
            "align_content": null,
            "align_items": null,
            "align_self": null,
            "border": null,
            "bottom": null,
            "display": null,
            "flex": null,
            "flex_flow": null,
            "grid_area": null,
            "grid_auto_columns": null,
            "grid_auto_flow": null,
            "grid_auto_rows": null,
            "grid_column": null,
            "grid_gap": null,
            "grid_row": null,
            "grid_template_areas": null,
            "grid_template_columns": null,
            "grid_template_rows": null,
            "height": null,
            "justify_content": null,
            "justify_items": null,
            "left": null,
            "margin": null,
            "max_height": null,
            "max_width": null,
            "min_height": null,
            "min_width": null,
            "object_fit": null,
            "object_position": null,
            "order": null,
            "overflow": null,
            "overflow_x": null,
            "overflow_y": null,
            "padding": null,
            "right": null,
            "top": null,
            "visibility": null,
            "width": null
          }
        },
        "043aa386ef154966943c377276c84ee0": {
          "model_module": "@jupyter-widgets/base",
          "model_name": "LayoutModel",
          "model_module_version": "1.2.0",
          "state": {
            "_model_module": "@jupyter-widgets/base",
            "_model_module_version": "1.2.0",
            "_model_name": "LayoutModel",
            "_view_count": null,
            "_view_module": "@jupyter-widgets/base",
            "_view_module_version": "1.2.0",
            "_view_name": "LayoutView",
            "align_content": null,
            "align_items": null,
            "align_self": null,
            "border": null,
            "bottom": null,
            "display": null,
            "flex": null,
            "flex_flow": null,
            "grid_area": null,
            "grid_auto_columns": null,
            "grid_auto_flow": null,
            "grid_auto_rows": null,
            "grid_column": null,
            "grid_gap": null,
            "grid_row": null,
            "grid_template_areas": null,
            "grid_template_columns": null,
            "grid_template_rows": null,
            "height": null,
            "justify_content": null,
            "justify_items": null,
            "left": null,
            "margin": null,
            "max_height": null,
            "max_width": null,
            "min_height": null,
            "min_width": null,
            "object_fit": null,
            "object_position": null,
            "order": null,
            "overflow": null,
            "overflow_x": null,
            "overflow_y": null,
            "padding": null,
            "right": null,
            "top": null,
            "visibility": null,
            "width": null
          }
        },
        "bde93275067748fda913661db782c08c": {
          "model_module": "@jupyter-widgets/controls",
          "model_name": "DescriptionStyleModel",
          "model_module_version": "1.5.0",
          "state": {
            "_model_module": "@jupyter-widgets/controls",
            "_model_module_version": "1.5.0",
            "_model_name": "DescriptionStyleModel",
            "_view_count": null,
            "_view_module": "@jupyter-widgets/base",
            "_view_module_version": "1.2.0",
            "_view_name": "StyleView",
            "description_width": ""
          }
        },
        "7c144efc8855413888d89f713acb51de": {
          "model_module": "@jupyter-widgets/base",
          "model_name": "LayoutModel",
          "model_module_version": "1.2.0",
          "state": {
            "_model_module": "@jupyter-widgets/base",
            "_model_module_version": "1.2.0",
            "_model_name": "LayoutModel",
            "_view_count": null,
            "_view_module": "@jupyter-widgets/base",
            "_view_module_version": "1.2.0",
            "_view_name": "LayoutView",
            "align_content": null,
            "align_items": null,
            "align_self": null,
            "border": null,
            "bottom": null,
            "display": null,
            "flex": null,
            "flex_flow": null,
            "grid_area": null,
            "grid_auto_columns": null,
            "grid_auto_flow": null,
            "grid_auto_rows": null,
            "grid_column": null,
            "grid_gap": null,
            "grid_row": null,
            "grid_template_areas": null,
            "grid_template_columns": null,
            "grid_template_rows": null,
            "height": null,
            "justify_content": null,
            "justify_items": null,
            "left": null,
            "margin": null,
            "max_height": null,
            "max_width": null,
            "min_height": null,
            "min_width": null,
            "object_fit": null,
            "object_position": null,
            "order": null,
            "overflow": null,
            "overflow_x": null,
            "overflow_y": null,
            "padding": null,
            "right": null,
            "top": null,
            "visibility": null,
            "width": null
          }
        },
        "3e0988b09a2c46f3b558367d2837bd09": {
          "model_module": "@jupyter-widgets/controls",
          "model_name": "ProgressStyleModel",
          "model_module_version": "1.5.0",
          "state": {
            "_model_module": "@jupyter-widgets/controls",
            "_model_module_version": "1.5.0",
            "_model_name": "ProgressStyleModel",
            "_view_count": null,
            "_view_module": "@jupyter-widgets/base",
            "_view_module_version": "1.2.0",
            "_view_name": "StyleView",
            "bar_color": null,
            "description_width": ""
          }
        },
        "75ae90dcbd87449b98042c6af298c956": {
          "model_module": "@jupyter-widgets/controls",
          "model_name": "VBoxModel",
          "model_module_version": "1.5.0",
          "state": {
            "_dom_classes": [],
            "_model_module": "@jupyter-widgets/controls",
            "_model_module_version": "1.5.0",
            "_model_name": "VBoxModel",
            "_view_count": null,
            "_view_module": "@jupyter-widgets/controls",
            "_view_module_version": "1.5.0",
            "_view_name": "VBoxView",
            "box_style": "",
            "children": [
              "IPY_MODEL_300a79465e8f4c9ca15f7de53209f328",
              "IPY_MODEL_aef248da49e4477cbd9d92e526489406"
            ],
            "layout": "IPY_MODEL_42fc959e69d74825ba0786322ecc2966"
          }
        },
        "300a79465e8f4c9ca15f7de53209f328": {
          "model_module": "@jupyter-widgets/controls",
          "model_name": "LabelModel",
          "model_module_version": "1.5.0",
          "state": {
            "_dom_classes": [],
            "_model_module": "@jupyter-widgets/controls",
            "_model_module_version": "1.5.0",
            "_model_name": "LabelModel",
            "_view_count": null,
            "_view_module": "@jupyter-widgets/controls",
            "_view_module_version": "1.5.0",
            "_view_name": "LabelView",
            "description": "",
            "description_tooltip": null,
            "layout": "IPY_MODEL_4babf8fb188a410987c7042b366f4878",
            "placeholder": "​",
            "style": "IPY_MODEL_45dd5d1d2b7648388ef48233bc7ff65f",
            "value": "Waiting for wandb.init()...\r"
          }
        },
        "aef248da49e4477cbd9d92e526489406": {
          "model_module": "@jupyter-widgets/controls",
          "model_name": "FloatProgressModel",
          "model_module_version": "1.5.0",
          "state": {
            "_dom_classes": [],
            "_model_module": "@jupyter-widgets/controls",
            "_model_module_version": "1.5.0",
            "_model_name": "FloatProgressModel",
            "_view_count": null,
            "_view_module": "@jupyter-widgets/controls",
            "_view_module_version": "1.5.0",
            "_view_name": "ProgressView",
            "bar_style": "",
            "description": "",
            "description_tooltip": null,
            "layout": "IPY_MODEL_16669cd0dce243f98bdf778d92dc48e0",
            "max": 1,
            "min": 0,
            "orientation": "horizontal",
            "style": "IPY_MODEL_44408cb5b0be4e86987a0553aa1707ff",
            "value": 1
          }
        },
        "42fc959e69d74825ba0786322ecc2966": {
          "model_module": "@jupyter-widgets/base",
          "model_name": "LayoutModel",
          "model_module_version": "1.2.0",
          "state": {
            "_model_module": "@jupyter-widgets/base",
            "_model_module_version": "1.2.0",
            "_model_name": "LayoutModel",
            "_view_count": null,
            "_view_module": "@jupyter-widgets/base",
            "_view_module_version": "1.2.0",
            "_view_name": "LayoutView",
            "align_content": null,
            "align_items": null,
            "align_self": null,
            "border": null,
            "bottom": null,
            "display": null,
            "flex": null,
            "flex_flow": null,
            "grid_area": null,
            "grid_auto_columns": null,
            "grid_auto_flow": null,
            "grid_auto_rows": null,
            "grid_column": null,
            "grid_gap": null,
            "grid_row": null,
            "grid_template_areas": null,
            "grid_template_columns": null,
            "grid_template_rows": null,
            "height": null,
            "justify_content": null,
            "justify_items": null,
            "left": null,
            "margin": null,
            "max_height": null,
            "max_width": null,
            "min_height": null,
            "min_width": null,
            "object_fit": null,
            "object_position": null,
            "order": null,
            "overflow": null,
            "overflow_x": null,
            "overflow_y": null,
            "padding": null,
            "right": null,
            "top": null,
            "visibility": null,
            "width": null
          }
        },
        "4babf8fb188a410987c7042b366f4878": {
          "model_module": "@jupyter-widgets/base",
          "model_name": "LayoutModel",
          "model_module_version": "1.2.0",
          "state": {
            "_model_module": "@jupyter-widgets/base",
            "_model_module_version": "1.2.0",
            "_model_name": "LayoutModel",
            "_view_count": null,
            "_view_module": "@jupyter-widgets/base",
            "_view_module_version": "1.2.0",
            "_view_name": "LayoutView",
            "align_content": null,
            "align_items": null,
            "align_self": null,
            "border": null,
            "bottom": null,
            "display": null,
            "flex": null,
            "flex_flow": null,
            "grid_area": null,
            "grid_auto_columns": null,
            "grid_auto_flow": null,
            "grid_auto_rows": null,
            "grid_column": null,
            "grid_gap": null,
            "grid_row": null,
            "grid_template_areas": null,
            "grid_template_columns": null,
            "grid_template_rows": null,
            "height": null,
            "justify_content": null,
            "justify_items": null,
            "left": null,
            "margin": null,
            "max_height": null,
            "max_width": null,
            "min_height": null,
            "min_width": null,
            "object_fit": null,
            "object_position": null,
            "order": null,
            "overflow": null,
            "overflow_x": null,
            "overflow_y": null,
            "padding": null,
            "right": null,
            "top": null,
            "visibility": null,
            "width": null
          }
        },
        "45dd5d1d2b7648388ef48233bc7ff65f": {
          "model_module": "@jupyter-widgets/controls",
          "model_name": "DescriptionStyleModel",
          "model_module_version": "1.5.0",
          "state": {
            "_model_module": "@jupyter-widgets/controls",
            "_model_module_version": "1.5.0",
            "_model_name": "DescriptionStyleModel",
            "_view_count": null,
            "_view_module": "@jupyter-widgets/base",
            "_view_module_version": "1.2.0",
            "_view_name": "StyleView",
            "description_width": ""
          }
        },
        "16669cd0dce243f98bdf778d92dc48e0": {
          "model_module": "@jupyter-widgets/base",
          "model_name": "LayoutModel",
          "model_module_version": "1.2.0",
          "state": {
            "_model_module": "@jupyter-widgets/base",
            "_model_module_version": "1.2.0",
            "_model_name": "LayoutModel",
            "_view_count": null,
            "_view_module": "@jupyter-widgets/base",
            "_view_module_version": "1.2.0",
            "_view_name": "LayoutView",
            "align_content": null,
            "align_items": null,
            "align_self": null,
            "border": null,
            "bottom": null,
            "display": null,
            "flex": null,
            "flex_flow": null,
            "grid_area": null,
            "grid_auto_columns": null,
            "grid_auto_flow": null,
            "grid_auto_rows": null,
            "grid_column": null,
            "grid_gap": null,
            "grid_row": null,
            "grid_template_areas": null,
            "grid_template_columns": null,
            "grid_template_rows": null,
            "height": null,
            "justify_content": null,
            "justify_items": null,
            "left": null,
            "margin": null,
            "max_height": null,
            "max_width": null,
            "min_height": null,
            "min_width": null,
            "object_fit": null,
            "object_position": null,
            "order": null,
            "overflow": null,
            "overflow_x": null,
            "overflow_y": null,
            "padding": null,
            "right": null,
            "top": null,
            "visibility": null,
            "width": null
          }
        },
        "44408cb5b0be4e86987a0553aa1707ff": {
          "model_module": "@jupyter-widgets/controls",
          "model_name": "ProgressStyleModel",
          "model_module_version": "1.5.0",
          "state": {
            "_model_module": "@jupyter-widgets/controls",
            "_model_module_version": "1.5.0",
            "_model_name": "ProgressStyleModel",
            "_view_count": null,
            "_view_module": "@jupyter-widgets/base",
            "_view_module_version": "1.2.0",
            "_view_name": "StyleView",
            "bar_color": null,
            "description_width": ""
          }
        },
        "1e0e3c28114f4ab2af4d1933afad4ec8": {
          "model_module": "@jupyter-widgets/controls",
          "model_name": "VBoxModel",
          "model_module_version": "1.5.0",
          "state": {
            "_dom_classes": [],
            "_model_module": "@jupyter-widgets/controls",
            "_model_module_version": "1.5.0",
            "_model_name": "VBoxModel",
            "_view_count": null,
            "_view_module": "@jupyter-widgets/controls",
            "_view_module_version": "1.5.0",
            "_view_name": "VBoxView",
            "box_style": "",
            "children": [
              "IPY_MODEL_cdc9fc0d74064ad09c7d13e45feaeee4",
              "IPY_MODEL_a57b62945556405aae65f4149ca34baa"
            ],
            "layout": "IPY_MODEL_ee410249a31c48d18198a300c4db0c74"
          }
        },
        "cdc9fc0d74064ad09c7d13e45feaeee4": {
          "model_module": "@jupyter-widgets/controls",
          "model_name": "LabelModel",
          "model_module_version": "1.5.0",
          "state": {
            "_dom_classes": [],
            "_model_module": "@jupyter-widgets/controls",
            "_model_module_version": "1.5.0",
            "_model_name": "LabelModel",
            "_view_count": null,
            "_view_module": "@jupyter-widgets/controls",
            "_view_module_version": "1.5.0",
            "_view_name": "LabelView",
            "description": "",
            "description_tooltip": null,
            "layout": "IPY_MODEL_6de0feb7eb3d43ddb0f0bada97343827",
            "placeholder": "​",
            "style": "IPY_MODEL_b73984cb640944ed97e95c076a50a400",
            "value": "3.682 MB of 3.682 MB uploaded\r"
          }
        },
        "a57b62945556405aae65f4149ca34baa": {
          "model_module": "@jupyter-widgets/controls",
          "model_name": "FloatProgressModel",
          "model_module_version": "1.5.0",
          "state": {
            "_dom_classes": [],
            "_model_module": "@jupyter-widgets/controls",
            "_model_module_version": "1.5.0",
            "_model_name": "FloatProgressModel",
            "_view_count": null,
            "_view_module": "@jupyter-widgets/controls",
            "_view_module_version": "1.5.0",
            "_view_name": "ProgressView",
            "bar_style": "",
            "description": "",
            "description_tooltip": null,
            "layout": "IPY_MODEL_f4b9982c8f254f0e9acff689f2a84319",
            "max": 1,
            "min": 0,
            "orientation": "horizontal",
            "style": "IPY_MODEL_df8572f86f8449369a9d0ecc72a475cf",
            "value": 1
          }
        },
        "ee410249a31c48d18198a300c4db0c74": {
          "model_module": "@jupyter-widgets/base",
          "model_name": "LayoutModel",
          "model_module_version": "1.2.0",
          "state": {
            "_model_module": "@jupyter-widgets/base",
            "_model_module_version": "1.2.0",
            "_model_name": "LayoutModel",
            "_view_count": null,
            "_view_module": "@jupyter-widgets/base",
            "_view_module_version": "1.2.0",
            "_view_name": "LayoutView",
            "align_content": null,
            "align_items": null,
            "align_self": null,
            "border": null,
            "bottom": null,
            "display": null,
            "flex": null,
            "flex_flow": null,
            "grid_area": null,
            "grid_auto_columns": null,
            "grid_auto_flow": null,
            "grid_auto_rows": null,
            "grid_column": null,
            "grid_gap": null,
            "grid_row": null,
            "grid_template_areas": null,
            "grid_template_columns": null,
            "grid_template_rows": null,
            "height": null,
            "justify_content": null,
            "justify_items": null,
            "left": null,
            "margin": null,
            "max_height": null,
            "max_width": null,
            "min_height": null,
            "min_width": null,
            "object_fit": null,
            "object_position": null,
            "order": null,
            "overflow": null,
            "overflow_x": null,
            "overflow_y": null,
            "padding": null,
            "right": null,
            "top": null,
            "visibility": null,
            "width": null
          }
        },
        "6de0feb7eb3d43ddb0f0bada97343827": {
          "model_module": "@jupyter-widgets/base",
          "model_name": "LayoutModel",
          "model_module_version": "1.2.0",
          "state": {
            "_model_module": "@jupyter-widgets/base",
            "_model_module_version": "1.2.0",
            "_model_name": "LayoutModel",
            "_view_count": null,
            "_view_module": "@jupyter-widgets/base",
            "_view_module_version": "1.2.0",
            "_view_name": "LayoutView",
            "align_content": null,
            "align_items": null,
            "align_self": null,
            "border": null,
            "bottom": null,
            "display": null,
            "flex": null,
            "flex_flow": null,
            "grid_area": null,
            "grid_auto_columns": null,
            "grid_auto_flow": null,
            "grid_auto_rows": null,
            "grid_column": null,
            "grid_gap": null,
            "grid_row": null,
            "grid_template_areas": null,
            "grid_template_columns": null,
            "grid_template_rows": null,
            "height": null,
            "justify_content": null,
            "justify_items": null,
            "left": null,
            "margin": null,
            "max_height": null,
            "max_width": null,
            "min_height": null,
            "min_width": null,
            "object_fit": null,
            "object_position": null,
            "order": null,
            "overflow": null,
            "overflow_x": null,
            "overflow_y": null,
            "padding": null,
            "right": null,
            "top": null,
            "visibility": null,
            "width": null
          }
        },
        "b73984cb640944ed97e95c076a50a400": {
          "model_module": "@jupyter-widgets/controls",
          "model_name": "DescriptionStyleModel",
          "model_module_version": "1.5.0",
          "state": {
            "_model_module": "@jupyter-widgets/controls",
            "_model_module_version": "1.5.0",
            "_model_name": "DescriptionStyleModel",
            "_view_count": null,
            "_view_module": "@jupyter-widgets/base",
            "_view_module_version": "1.2.0",
            "_view_name": "StyleView",
            "description_width": ""
          }
        },
        "f4b9982c8f254f0e9acff689f2a84319": {
          "model_module": "@jupyter-widgets/base",
          "model_name": "LayoutModel",
          "model_module_version": "1.2.0",
          "state": {
            "_model_module": "@jupyter-widgets/base",
            "_model_module_version": "1.2.0",
            "_model_name": "LayoutModel",
            "_view_count": null,
            "_view_module": "@jupyter-widgets/base",
            "_view_module_version": "1.2.0",
            "_view_name": "LayoutView",
            "align_content": null,
            "align_items": null,
            "align_self": null,
            "border": null,
            "bottom": null,
            "display": null,
            "flex": null,
            "flex_flow": null,
            "grid_area": null,
            "grid_auto_columns": null,
            "grid_auto_flow": null,
            "grid_auto_rows": null,
            "grid_column": null,
            "grid_gap": null,
            "grid_row": null,
            "grid_template_areas": null,
            "grid_template_columns": null,
            "grid_template_rows": null,
            "height": null,
            "justify_content": null,
            "justify_items": null,
            "left": null,
            "margin": null,
            "max_height": null,
            "max_width": null,
            "min_height": null,
            "min_width": null,
            "object_fit": null,
            "object_position": null,
            "order": null,
            "overflow": null,
            "overflow_x": null,
            "overflow_y": null,
            "padding": null,
            "right": null,
            "top": null,
            "visibility": null,
            "width": null
          }
        },
        "df8572f86f8449369a9d0ecc72a475cf": {
          "model_module": "@jupyter-widgets/controls",
          "model_name": "ProgressStyleModel",
          "model_module_version": "1.5.0",
          "state": {
            "_model_module": "@jupyter-widgets/controls",
            "_model_module_version": "1.5.0",
            "_model_name": "ProgressStyleModel",
            "_view_count": null,
            "_view_module": "@jupyter-widgets/base",
            "_view_module_version": "1.2.0",
            "_view_name": "StyleView",
            "bar_color": null,
            "description_width": ""
          }
        },
        "8f1fdbd888a24c0aaf3175a9b9ea2a3a": {
          "model_module": "@jupyter-widgets/controls",
          "model_name": "VBoxModel",
          "model_module_version": "1.5.0",
          "state": {
            "_dom_classes": [],
            "_model_module": "@jupyter-widgets/controls",
            "_model_module_version": "1.5.0",
            "_model_name": "VBoxModel",
            "_view_count": null,
            "_view_module": "@jupyter-widgets/controls",
            "_view_module_version": "1.5.0",
            "_view_name": "VBoxView",
            "box_style": "",
            "children": [
              "IPY_MODEL_6c03956fe1234bfca7fec64c1e9ae8eb",
              "IPY_MODEL_955cf99e93584506b23a41b5b1815537"
            ],
            "layout": "IPY_MODEL_ffa77c28a876489bbd2d39129d33d446"
          }
        },
        "6c03956fe1234bfca7fec64c1e9ae8eb": {
          "model_module": "@jupyter-widgets/controls",
          "model_name": "LabelModel",
          "model_module_version": "1.5.0",
          "state": {
            "_dom_classes": [],
            "_model_module": "@jupyter-widgets/controls",
            "_model_module_version": "1.5.0",
            "_model_name": "LabelModel",
            "_view_count": null,
            "_view_module": "@jupyter-widgets/controls",
            "_view_module_version": "1.5.0",
            "_view_name": "LabelView",
            "description": "",
            "description_tooltip": null,
            "layout": "IPY_MODEL_df62f8a71634425ebb2d32a728db2945",
            "placeholder": "​",
            "style": "IPY_MODEL_0d123498215447f19e0e2a9d1bca042a",
            "value": "1.803 MB of 1.803 MB uploaded\r"
          }
        },
        "955cf99e93584506b23a41b5b1815537": {
          "model_module": "@jupyter-widgets/controls",
          "model_name": "FloatProgressModel",
          "model_module_version": "1.5.0",
          "state": {
            "_dom_classes": [],
            "_model_module": "@jupyter-widgets/controls",
            "_model_module_version": "1.5.0",
            "_model_name": "FloatProgressModel",
            "_view_count": null,
            "_view_module": "@jupyter-widgets/controls",
            "_view_module_version": "1.5.0",
            "_view_name": "ProgressView",
            "bar_style": "",
            "description": "",
            "description_tooltip": null,
            "layout": "IPY_MODEL_42c9f9ccc9ed46949df9ee7a9f3ae8ef",
            "max": 1,
            "min": 0,
            "orientation": "horizontal",
            "style": "IPY_MODEL_c9517bdb53c341f39a8272bb995fffa8",
            "value": 1
          }
        },
        "ffa77c28a876489bbd2d39129d33d446": {
          "model_module": "@jupyter-widgets/base",
          "model_name": "LayoutModel",
          "model_module_version": "1.2.0",
          "state": {
            "_model_module": "@jupyter-widgets/base",
            "_model_module_version": "1.2.0",
            "_model_name": "LayoutModel",
            "_view_count": null,
            "_view_module": "@jupyter-widgets/base",
            "_view_module_version": "1.2.0",
            "_view_name": "LayoutView",
            "align_content": null,
            "align_items": null,
            "align_self": null,
            "border": null,
            "bottom": null,
            "display": null,
            "flex": null,
            "flex_flow": null,
            "grid_area": null,
            "grid_auto_columns": null,
            "grid_auto_flow": null,
            "grid_auto_rows": null,
            "grid_column": null,
            "grid_gap": null,
            "grid_row": null,
            "grid_template_areas": null,
            "grid_template_columns": null,
            "grid_template_rows": null,
            "height": null,
            "justify_content": null,
            "justify_items": null,
            "left": null,
            "margin": null,
            "max_height": null,
            "max_width": null,
            "min_height": null,
            "min_width": null,
            "object_fit": null,
            "object_position": null,
            "order": null,
            "overflow": null,
            "overflow_x": null,
            "overflow_y": null,
            "padding": null,
            "right": null,
            "top": null,
            "visibility": null,
            "width": null
          }
        },
        "df62f8a71634425ebb2d32a728db2945": {
          "model_module": "@jupyter-widgets/base",
          "model_name": "LayoutModel",
          "model_module_version": "1.2.0",
          "state": {
            "_model_module": "@jupyter-widgets/base",
            "_model_module_version": "1.2.0",
            "_model_name": "LayoutModel",
            "_view_count": null,
            "_view_module": "@jupyter-widgets/base",
            "_view_module_version": "1.2.0",
            "_view_name": "LayoutView",
            "align_content": null,
            "align_items": null,
            "align_self": null,
            "border": null,
            "bottom": null,
            "display": null,
            "flex": null,
            "flex_flow": null,
            "grid_area": null,
            "grid_auto_columns": null,
            "grid_auto_flow": null,
            "grid_auto_rows": null,
            "grid_column": null,
            "grid_gap": null,
            "grid_row": null,
            "grid_template_areas": null,
            "grid_template_columns": null,
            "grid_template_rows": null,
            "height": null,
            "justify_content": null,
            "justify_items": null,
            "left": null,
            "margin": null,
            "max_height": null,
            "max_width": null,
            "min_height": null,
            "min_width": null,
            "object_fit": null,
            "object_position": null,
            "order": null,
            "overflow": null,
            "overflow_x": null,
            "overflow_y": null,
            "padding": null,
            "right": null,
            "top": null,
            "visibility": null,
            "width": null
          }
        },
        "0d123498215447f19e0e2a9d1bca042a": {
          "model_module": "@jupyter-widgets/controls",
          "model_name": "DescriptionStyleModel",
          "model_module_version": "1.5.0",
          "state": {
            "_model_module": "@jupyter-widgets/controls",
            "_model_module_version": "1.5.0",
            "_model_name": "DescriptionStyleModel",
            "_view_count": null,
            "_view_module": "@jupyter-widgets/base",
            "_view_module_version": "1.2.0",
            "_view_name": "StyleView",
            "description_width": ""
          }
        },
        "42c9f9ccc9ed46949df9ee7a9f3ae8ef": {
          "model_module": "@jupyter-widgets/base",
          "model_name": "LayoutModel",
          "model_module_version": "1.2.0",
          "state": {
            "_model_module": "@jupyter-widgets/base",
            "_model_module_version": "1.2.0",
            "_model_name": "LayoutModel",
            "_view_count": null,
            "_view_module": "@jupyter-widgets/base",
            "_view_module_version": "1.2.0",
            "_view_name": "LayoutView",
            "align_content": null,
            "align_items": null,
            "align_self": null,
            "border": null,
            "bottom": null,
            "display": null,
            "flex": null,
            "flex_flow": null,
            "grid_area": null,
            "grid_auto_columns": null,
            "grid_auto_flow": null,
            "grid_auto_rows": null,
            "grid_column": null,
            "grid_gap": null,
            "grid_row": null,
            "grid_template_areas": null,
            "grid_template_columns": null,
            "grid_template_rows": null,
            "height": null,
            "justify_content": null,
            "justify_items": null,
            "left": null,
            "margin": null,
            "max_height": null,
            "max_width": null,
            "min_height": null,
            "min_width": null,
            "object_fit": null,
            "object_position": null,
            "order": null,
            "overflow": null,
            "overflow_x": null,
            "overflow_y": null,
            "padding": null,
            "right": null,
            "top": null,
            "visibility": null,
            "width": null
          }
        },
        "c9517bdb53c341f39a8272bb995fffa8": {
          "model_module": "@jupyter-widgets/controls",
          "model_name": "ProgressStyleModel",
          "model_module_version": "1.5.0",
          "state": {
            "_model_module": "@jupyter-widgets/controls",
            "_model_module_version": "1.5.0",
            "_model_name": "ProgressStyleModel",
            "_view_count": null,
            "_view_module": "@jupyter-widgets/base",
            "_view_module_version": "1.2.0",
            "_view_name": "StyleView",
            "bar_color": null,
            "description_width": ""
          }
        },
        "62edd67f9ccc4967b46e122990fb1cf8": {
          "model_module": "@jupyter-widgets/controls",
          "model_name": "VBoxModel",
          "model_module_version": "1.5.0",
          "state": {
            "_dom_classes": [],
            "_model_module": "@jupyter-widgets/controls",
            "_model_module_version": "1.5.0",
            "_model_name": "VBoxModel",
            "_view_count": null,
            "_view_module": "@jupyter-widgets/controls",
            "_view_module_version": "1.5.0",
            "_view_name": "VBoxView",
            "box_style": "",
            "children": [
              "IPY_MODEL_253086f3e35a42d0bdcc56884761b789",
              "IPY_MODEL_f388206e30044a97b4a1bc45ee6800af"
            ],
            "layout": "IPY_MODEL_22e5c330bd314701b9deedca4a6a91a7"
          }
        },
        "253086f3e35a42d0bdcc56884761b789": {
          "model_module": "@jupyter-widgets/controls",
          "model_name": "LabelModel",
          "model_module_version": "1.5.0",
          "state": {
            "_dom_classes": [],
            "_model_module": "@jupyter-widgets/controls",
            "_model_module_version": "1.5.0",
            "_model_name": "LabelModel",
            "_view_count": null,
            "_view_module": "@jupyter-widgets/controls",
            "_view_module_version": "1.5.0",
            "_view_name": "LabelView",
            "description": "",
            "description_tooltip": null,
            "layout": "IPY_MODEL_26bdd975ce5440be92a8243b59cab9a1",
            "placeholder": "​",
            "style": "IPY_MODEL_02b89068ce104c03b56ab010711b9ca3",
            "value": "Waiting for wandb.init()...\r"
          }
        },
        "f388206e30044a97b4a1bc45ee6800af": {
          "model_module": "@jupyter-widgets/controls",
          "model_name": "FloatProgressModel",
          "model_module_version": "1.5.0",
          "state": {
            "_dom_classes": [],
            "_model_module": "@jupyter-widgets/controls",
            "_model_module_version": "1.5.0",
            "_model_name": "FloatProgressModel",
            "_view_count": null,
            "_view_module": "@jupyter-widgets/controls",
            "_view_module_version": "1.5.0",
            "_view_name": "ProgressView",
            "bar_style": "",
            "description": "",
            "description_tooltip": null,
            "layout": "IPY_MODEL_dde4a9b7bf714dbab1ef0cc4ce0369c9",
            "max": 1,
            "min": 0,
            "orientation": "horizontal",
            "style": "IPY_MODEL_ddbf27dd560e41fe84d197d2c584c8ca",
            "value": 1
          }
        },
        "22e5c330bd314701b9deedca4a6a91a7": {
          "model_module": "@jupyter-widgets/base",
          "model_name": "LayoutModel",
          "model_module_version": "1.2.0",
          "state": {
            "_model_module": "@jupyter-widgets/base",
            "_model_module_version": "1.2.0",
            "_model_name": "LayoutModel",
            "_view_count": null,
            "_view_module": "@jupyter-widgets/base",
            "_view_module_version": "1.2.0",
            "_view_name": "LayoutView",
            "align_content": null,
            "align_items": null,
            "align_self": null,
            "border": null,
            "bottom": null,
            "display": null,
            "flex": null,
            "flex_flow": null,
            "grid_area": null,
            "grid_auto_columns": null,
            "grid_auto_flow": null,
            "grid_auto_rows": null,
            "grid_column": null,
            "grid_gap": null,
            "grid_row": null,
            "grid_template_areas": null,
            "grid_template_columns": null,
            "grid_template_rows": null,
            "height": null,
            "justify_content": null,
            "justify_items": null,
            "left": null,
            "margin": null,
            "max_height": null,
            "max_width": null,
            "min_height": null,
            "min_width": null,
            "object_fit": null,
            "object_position": null,
            "order": null,
            "overflow": null,
            "overflow_x": null,
            "overflow_y": null,
            "padding": null,
            "right": null,
            "top": null,
            "visibility": null,
            "width": null
          }
        },
        "26bdd975ce5440be92a8243b59cab9a1": {
          "model_module": "@jupyter-widgets/base",
          "model_name": "LayoutModel",
          "model_module_version": "1.2.0",
          "state": {
            "_model_module": "@jupyter-widgets/base",
            "_model_module_version": "1.2.0",
            "_model_name": "LayoutModel",
            "_view_count": null,
            "_view_module": "@jupyter-widgets/base",
            "_view_module_version": "1.2.0",
            "_view_name": "LayoutView",
            "align_content": null,
            "align_items": null,
            "align_self": null,
            "border": null,
            "bottom": null,
            "display": null,
            "flex": null,
            "flex_flow": null,
            "grid_area": null,
            "grid_auto_columns": null,
            "grid_auto_flow": null,
            "grid_auto_rows": null,
            "grid_column": null,
            "grid_gap": null,
            "grid_row": null,
            "grid_template_areas": null,
            "grid_template_columns": null,
            "grid_template_rows": null,
            "height": null,
            "justify_content": null,
            "justify_items": null,
            "left": null,
            "margin": null,
            "max_height": null,
            "max_width": null,
            "min_height": null,
            "min_width": null,
            "object_fit": null,
            "object_position": null,
            "order": null,
            "overflow": null,
            "overflow_x": null,
            "overflow_y": null,
            "padding": null,
            "right": null,
            "top": null,
            "visibility": null,
            "width": null
          }
        },
        "02b89068ce104c03b56ab010711b9ca3": {
          "model_module": "@jupyter-widgets/controls",
          "model_name": "DescriptionStyleModel",
          "model_module_version": "1.5.0",
          "state": {
            "_model_module": "@jupyter-widgets/controls",
            "_model_module_version": "1.5.0",
            "_model_name": "DescriptionStyleModel",
            "_view_count": null,
            "_view_module": "@jupyter-widgets/base",
            "_view_module_version": "1.2.0",
            "_view_name": "StyleView",
            "description_width": ""
          }
        },
        "dde4a9b7bf714dbab1ef0cc4ce0369c9": {
          "model_module": "@jupyter-widgets/base",
          "model_name": "LayoutModel",
          "model_module_version": "1.2.0",
          "state": {
            "_model_module": "@jupyter-widgets/base",
            "_model_module_version": "1.2.0",
            "_model_name": "LayoutModel",
            "_view_count": null,
            "_view_module": "@jupyter-widgets/base",
            "_view_module_version": "1.2.0",
            "_view_name": "LayoutView",
            "align_content": null,
            "align_items": null,
            "align_self": null,
            "border": null,
            "bottom": null,
            "display": null,
            "flex": null,
            "flex_flow": null,
            "grid_area": null,
            "grid_auto_columns": null,
            "grid_auto_flow": null,
            "grid_auto_rows": null,
            "grid_column": null,
            "grid_gap": null,
            "grid_row": null,
            "grid_template_areas": null,
            "grid_template_columns": null,
            "grid_template_rows": null,
            "height": null,
            "justify_content": null,
            "justify_items": null,
            "left": null,
            "margin": null,
            "max_height": null,
            "max_width": null,
            "min_height": null,
            "min_width": null,
            "object_fit": null,
            "object_position": null,
            "order": null,
            "overflow": null,
            "overflow_x": null,
            "overflow_y": null,
            "padding": null,
            "right": null,
            "top": null,
            "visibility": null,
            "width": null
          }
        },
        "ddbf27dd560e41fe84d197d2c584c8ca": {
          "model_module": "@jupyter-widgets/controls",
          "model_name": "ProgressStyleModel",
          "model_module_version": "1.5.0",
          "state": {
            "_model_module": "@jupyter-widgets/controls",
            "_model_module_version": "1.5.0",
            "_model_name": "ProgressStyleModel",
            "_view_count": null,
            "_view_module": "@jupyter-widgets/base",
            "_view_module_version": "1.2.0",
            "_view_name": "StyleView",
            "bar_color": null,
            "description_width": ""
          }
        },
        "2eb8ca845bef458c93c5d12cdb8ef88b": {
          "model_module": "@jupyter-widgets/controls",
          "model_name": "VBoxModel",
          "model_module_version": "1.5.0",
          "state": {
            "_dom_classes": [],
            "_model_module": "@jupyter-widgets/controls",
            "_model_module_version": "1.5.0",
            "_model_name": "VBoxModel",
            "_view_count": null,
            "_view_module": "@jupyter-widgets/controls",
            "_view_module_version": "1.5.0",
            "_view_name": "VBoxView",
            "box_style": "",
            "children": [
              "IPY_MODEL_73320313d48d43a98f1c78b02c745213",
              "IPY_MODEL_26da2d7f6b844d29ab177d634d95e596"
            ],
            "layout": "IPY_MODEL_1eefa678fb9d46379b21f8df1a6533b7"
          }
        },
        "73320313d48d43a98f1c78b02c745213": {
          "model_module": "@jupyter-widgets/controls",
          "model_name": "LabelModel",
          "model_module_version": "1.5.0",
          "state": {
            "_dom_classes": [],
            "_model_module": "@jupyter-widgets/controls",
            "_model_module_version": "1.5.0",
            "_model_name": "LabelModel",
            "_view_count": null,
            "_view_module": "@jupyter-widgets/controls",
            "_view_module_version": "1.5.0",
            "_view_name": "LabelView",
            "description": "",
            "description_tooltip": null,
            "layout": "IPY_MODEL_a5329c0436674eeabb687100856efb04",
            "placeholder": "​",
            "style": "IPY_MODEL_d08db11d8ef34d17946e66e1399dc56c",
            "value": "3.425 MB of 3.425 MB uploaded\r"
          }
        },
        "26da2d7f6b844d29ab177d634d95e596": {
          "model_module": "@jupyter-widgets/controls",
          "model_name": "FloatProgressModel",
          "model_module_version": "1.5.0",
          "state": {
            "_dom_classes": [],
            "_model_module": "@jupyter-widgets/controls",
            "_model_module_version": "1.5.0",
            "_model_name": "FloatProgressModel",
            "_view_count": null,
            "_view_module": "@jupyter-widgets/controls",
            "_view_module_version": "1.5.0",
            "_view_name": "ProgressView",
            "bar_style": "",
            "description": "",
            "description_tooltip": null,
            "layout": "IPY_MODEL_5e7c5d20ce0a475b9aaeaacca52a7254",
            "max": 1,
            "min": 0,
            "orientation": "horizontal",
            "style": "IPY_MODEL_7d8302747952458b8bcde1df0fed6475",
            "value": 1
          }
        },
        "1eefa678fb9d46379b21f8df1a6533b7": {
          "model_module": "@jupyter-widgets/base",
          "model_name": "LayoutModel",
          "model_module_version": "1.2.0",
          "state": {
            "_model_module": "@jupyter-widgets/base",
            "_model_module_version": "1.2.0",
            "_model_name": "LayoutModel",
            "_view_count": null,
            "_view_module": "@jupyter-widgets/base",
            "_view_module_version": "1.2.0",
            "_view_name": "LayoutView",
            "align_content": null,
            "align_items": null,
            "align_self": null,
            "border": null,
            "bottom": null,
            "display": null,
            "flex": null,
            "flex_flow": null,
            "grid_area": null,
            "grid_auto_columns": null,
            "grid_auto_flow": null,
            "grid_auto_rows": null,
            "grid_column": null,
            "grid_gap": null,
            "grid_row": null,
            "grid_template_areas": null,
            "grid_template_columns": null,
            "grid_template_rows": null,
            "height": null,
            "justify_content": null,
            "justify_items": null,
            "left": null,
            "margin": null,
            "max_height": null,
            "max_width": null,
            "min_height": null,
            "min_width": null,
            "object_fit": null,
            "object_position": null,
            "order": null,
            "overflow": null,
            "overflow_x": null,
            "overflow_y": null,
            "padding": null,
            "right": null,
            "top": null,
            "visibility": null,
            "width": null
          }
        },
        "a5329c0436674eeabb687100856efb04": {
          "model_module": "@jupyter-widgets/base",
          "model_name": "LayoutModel",
          "model_module_version": "1.2.0",
          "state": {
            "_model_module": "@jupyter-widgets/base",
            "_model_module_version": "1.2.0",
            "_model_name": "LayoutModel",
            "_view_count": null,
            "_view_module": "@jupyter-widgets/base",
            "_view_module_version": "1.2.0",
            "_view_name": "LayoutView",
            "align_content": null,
            "align_items": null,
            "align_self": null,
            "border": null,
            "bottom": null,
            "display": null,
            "flex": null,
            "flex_flow": null,
            "grid_area": null,
            "grid_auto_columns": null,
            "grid_auto_flow": null,
            "grid_auto_rows": null,
            "grid_column": null,
            "grid_gap": null,
            "grid_row": null,
            "grid_template_areas": null,
            "grid_template_columns": null,
            "grid_template_rows": null,
            "height": null,
            "justify_content": null,
            "justify_items": null,
            "left": null,
            "margin": null,
            "max_height": null,
            "max_width": null,
            "min_height": null,
            "min_width": null,
            "object_fit": null,
            "object_position": null,
            "order": null,
            "overflow": null,
            "overflow_x": null,
            "overflow_y": null,
            "padding": null,
            "right": null,
            "top": null,
            "visibility": null,
            "width": null
          }
        },
        "d08db11d8ef34d17946e66e1399dc56c": {
          "model_module": "@jupyter-widgets/controls",
          "model_name": "DescriptionStyleModel",
          "model_module_version": "1.5.0",
          "state": {
            "_model_module": "@jupyter-widgets/controls",
            "_model_module_version": "1.5.0",
            "_model_name": "DescriptionStyleModel",
            "_view_count": null,
            "_view_module": "@jupyter-widgets/base",
            "_view_module_version": "1.2.0",
            "_view_name": "StyleView",
            "description_width": ""
          }
        },
        "5e7c5d20ce0a475b9aaeaacca52a7254": {
          "model_module": "@jupyter-widgets/base",
          "model_name": "LayoutModel",
          "model_module_version": "1.2.0",
          "state": {
            "_model_module": "@jupyter-widgets/base",
            "_model_module_version": "1.2.0",
            "_model_name": "LayoutModel",
            "_view_count": null,
            "_view_module": "@jupyter-widgets/base",
            "_view_module_version": "1.2.0",
            "_view_name": "LayoutView",
            "align_content": null,
            "align_items": null,
            "align_self": null,
            "border": null,
            "bottom": null,
            "display": null,
            "flex": null,
            "flex_flow": null,
            "grid_area": null,
            "grid_auto_columns": null,
            "grid_auto_flow": null,
            "grid_auto_rows": null,
            "grid_column": null,
            "grid_gap": null,
            "grid_row": null,
            "grid_template_areas": null,
            "grid_template_columns": null,
            "grid_template_rows": null,
            "height": null,
            "justify_content": null,
            "justify_items": null,
            "left": null,
            "margin": null,
            "max_height": null,
            "max_width": null,
            "min_height": null,
            "min_width": null,
            "object_fit": null,
            "object_position": null,
            "order": null,
            "overflow": null,
            "overflow_x": null,
            "overflow_y": null,
            "padding": null,
            "right": null,
            "top": null,
            "visibility": null,
            "width": null
          }
        },
        "7d8302747952458b8bcde1df0fed6475": {
          "model_module": "@jupyter-widgets/controls",
          "model_name": "ProgressStyleModel",
          "model_module_version": "1.5.0",
          "state": {
            "_model_module": "@jupyter-widgets/controls",
            "_model_module_version": "1.5.0",
            "_model_name": "ProgressStyleModel",
            "_view_count": null,
            "_view_module": "@jupyter-widgets/base",
            "_view_module_version": "1.2.0",
            "_view_name": "StyleView",
            "bar_color": null,
            "description_width": ""
          }
        }
      }
    }
  },
  "cells": [
    {
      "cell_type": "markdown",
      "metadata": {
        "id": "view-in-github",
        "colab_type": "text"
      },
      "source": [
        "<a href=\"https://colab.research.google.com/github/Action52/HumanDataProject/blob/main/Pipeline_EEG.ipynb\" target=\"_parent\"><img src=\"https://colab.research.google.com/assets/colab-badge.svg\" alt=\"Open In Colab\"/></a>"
      ]
    },
    {
      "cell_type": "markdown",
      "source": [
        "\n",
        "\n",
        "# Decoding Brain Waves: Training architectures"
      ],
      "metadata": {
        "id": "Yf0Yx1bX-VE7"
      }
    },
    {
      "cell_type": "markdown",
      "source": [
        "## Installation"
      ],
      "metadata": {
        "id": "MQYUA5ON_zhP"
      }
    },
    {
      "cell_type": "code",
      "execution_count": null,
      "metadata": {
        "colab": {
          "base_uri": "https://localhost:8080/"
        },
        "id": "FyQIR26t-UUY",
        "outputId": "5cdcceb8-363a-4bb2-b984-1b9a29157169"
      },
      "outputs": [
        {
          "output_type": "stream",
          "name": "stdout",
          "text": [
            "Mounted at /content/drive/\n"
          ]
        }
      ],
      "source": [
        "from google.colab import drive\n",
        "drive.mount('/content/drive/', force_remount=True)"
      ]
    },
    {
      "cell_type": "code",
      "source": [
        "!pip install wandb -qU"
      ],
      "metadata": {
        "colab": {
          "base_uri": "https://localhost:8080/"
        },
        "id": "LX2jwvci-prX",
        "outputId": "3c9f39c7-28c2-4d57-fd96-c4e484d83b01"
      },
      "execution_count": null,
      "outputs": [
        {
          "output_type": "stream",
          "name": "stdout",
          "text": [
            "\u001b[2K     \u001b[90m━━━━━━━━━━━━━━━━━━━━━━━━━━━━━━━━━━━━━━━━\u001b[0m \u001b[32m2.2/2.2 MB\u001b[0m \u001b[31m38.1 MB/s\u001b[0m eta \u001b[36m0:00:00\u001b[0m\n",
            "\u001b[2K     \u001b[90m━━━━━━━━━━━━━━━━━━━━━━━━━━━━━━━━━━━━━━━━\u001b[0m \u001b[32m195.4/195.4 kB\u001b[0m \u001b[31m26.9 MB/s\u001b[0m eta \u001b[36m0:00:00\u001b[0m\n",
            "\u001b[2K     \u001b[90m━━━━━━━━━━━━━━━━━━━━━━━━━━━━━━━━━━━━━━━━\u001b[0m \u001b[32m257.9/257.9 kB\u001b[0m \u001b[31m32.4 MB/s\u001b[0m eta \u001b[36m0:00:00\u001b[0m\n",
            "\u001b[2K     \u001b[90m━━━━━━━━━━━━━━━━━━━━━━━━━━━━━━━━━━━━━━━━\u001b[0m \u001b[32m62.7/62.7 kB\u001b[0m \u001b[31m9.8 MB/s\u001b[0m eta \u001b[36m0:00:00\u001b[0m\n",
            "\u001b[?25h"
          ]
        }
      ]
    },
    {
      "cell_type": "code",
      "source": [
        "!pip install ncps -qU"
      ],
      "metadata": {
        "colab": {
          "base_uri": "https://localhost:8080/"
        },
        "id": "J3g0FuPNQuS0",
        "outputId": "4158174d-98a4-4a18-e968-b663efab92fe"
      },
      "execution_count": null,
      "outputs": [
        {
          "output_type": "stream",
          "name": "stdout",
          "text": [
            "\u001b[?25l     \u001b[90m━━━━━━━━━━━━━━━━━━━━━━━━━━━━━━━━━━━━━━━━\u001b[0m \u001b[32m0.0/44.8 kB\u001b[0m \u001b[31m?\u001b[0m eta \u001b[36m-:--:--\u001b[0m\r\u001b[2K     \u001b[90m━━━━━━━━━━━━━━━━━━━━━━━━━━━━━━━━━━━━━━━━\u001b[0m \u001b[32m44.8/44.8 kB\u001b[0m \u001b[31m1.8 MB/s\u001b[0m eta \u001b[36m0:00:00\u001b[0m\n",
            "\u001b[?25h"
          ]
        }
      ]
    },
    {
      "cell_type": "markdown",
      "source": [
        "We need to log in wandb to be able to track the results of our experiments."
      ],
      "metadata": {
        "id": "zAWFqjtr_IIU"
      }
    },
    {
      "cell_type": "code",
      "source": [
        "import wandb\n",
        "wandb.login()"
      ],
      "metadata": {
        "colab": {
          "base_uri": "https://localhost:8080/",
          "height": 141
        },
        "id": "LqC2PhdV-6yr",
        "outputId": "6db9c6f4-d3d1-4b87-d730-747b1ed0bdb6"
      },
      "execution_count": null,
      "outputs": [
        {
          "output_type": "display_data",
          "data": {
            "text/plain": [
              "<IPython.core.display.Javascript object>"
            ],
            "application/javascript": [
              "\n",
              "        window._wandbApiKey = new Promise((resolve, reject) => {\n",
              "            function loadScript(url) {\n",
              "            return new Promise(function(resolve, reject) {\n",
              "                let newScript = document.createElement(\"script\");\n",
              "                newScript.onerror = reject;\n",
              "                newScript.onload = resolve;\n",
              "                document.body.appendChild(newScript);\n",
              "                newScript.src = url;\n",
              "            });\n",
              "            }\n",
              "            loadScript(\"https://cdn.jsdelivr.net/npm/postmate/build/postmate.min.js\").then(() => {\n",
              "            const iframe = document.createElement('iframe')\n",
              "            iframe.style.cssText = \"width:0;height:0;border:none\"\n",
              "            document.body.appendChild(iframe)\n",
              "            const handshake = new Postmate({\n",
              "                container: iframe,\n",
              "                url: 'https://wandb.ai/authorize'\n",
              "            });\n",
              "            const timeout = setTimeout(() => reject(\"Couldn't auto authenticate\"), 5000)\n",
              "            handshake.then(function(child) {\n",
              "                child.on('authorize', data => {\n",
              "                    clearTimeout(timeout)\n",
              "                    resolve(data)\n",
              "                });\n",
              "            });\n",
              "            })\n",
              "        });\n",
              "    "
            ]
          },
          "metadata": {}
        },
        {
          "output_type": "stream",
          "name": "stderr",
          "text": [
            "\u001b[34m\u001b[1mwandb\u001b[0m: Logging into wandb.ai. (Learn how to deploy a W&B server locally: https://wandb.me/wandb-server)\n",
            "\u001b[34m\u001b[1mwandb\u001b[0m: You can find your API key in your browser here: https://wandb.ai/authorize\n",
            "wandb: Paste an API key from your profile and hit enter, or press ctrl+c to quit:"
          ]
        },
        {
          "name": "stdout",
          "output_type": "stream",
          "text": [
            " ··········\n"
          ]
        },
        {
          "output_type": "stream",
          "name": "stderr",
          "text": [
            "\u001b[34m\u001b[1mwandb\u001b[0m: Appending key for api.wandb.ai to your netrc file: /root/.netrc\n"
          ]
        },
        {
          "output_type": "execute_result",
          "data": {
            "text/plain": [
              "True"
            ]
          },
          "metadata": {},
          "execution_count": 4
        }
      ]
    },
    {
      "cell_type": "markdown",
      "source": [
        "Unzip the files, use -q for quiet mode."
      ],
      "metadata": {
        "id": "ornoD5lt_q3B"
      }
    },
    {
      "cell_type": "code",
      "source": [
        "# Change to the path where you have the EEG (Project A4) datasets.\n",
        "!unzip -q \"/content/drive/MyDrive/Kuliah/BDMA/HDA/Project/datasets.zip\" -d \"/content\""
      ],
      "metadata": {
        "id": "HIaCCrQP--ov"
      },
      "execution_count": null,
      "outputs": []
    },
    {
      "cell_type": "code",
      "source": [
        "cd '/content'"
      ],
      "metadata": {
        "colab": {
          "base_uri": "https://localhost:8080/"
        },
        "id": "s3VxtMuR_TW_",
        "outputId": "3a63a79f-cf60-4dc0-efe6-d249a0749842"
      },
      "execution_count": null,
      "outputs": [
        {
          "output_type": "stream",
          "name": "stdout",
          "text": [
            "/content\n"
          ]
        }
      ]
    },
    {
      "cell_type": "code",
      "source": [
        "rm -R HumanDataProject"
      ],
      "metadata": {
        "id": "kuPXy4QmFEVp",
        "colab": {
          "base_uri": "https://localhost:8080/"
        },
        "outputId": "fab9eff0-f687-401f-e3bc-7a98ddeefbe4"
      },
      "execution_count": null,
      "outputs": [
        {
          "output_type": "stream",
          "name": "stdout",
          "text": [
            "rm: cannot remove 'HumanDataProject': No such file or directory\n"
          ]
        }
      ]
    },
    {
      "cell_type": "markdown",
      "source": [
        "Install the latest version of our code. It includes the model definitions under the models/ folder."
      ],
      "metadata": {
        "id": "DPV_OIb_ARUq"
      }
    },
    {
      "cell_type": "code",
      "source": [
        "!git clone 'https://github.com/Action52/HumanDataProject/'"
      ],
      "metadata": {
        "colab": {
          "base_uri": "https://localhost:8080/"
        },
        "id": "oPWEoSKP_4_Z",
        "outputId": "9431a8d9-1205-420a-929b-3c7106c2552e"
      },
      "execution_count": null,
      "outputs": [
        {
          "output_type": "stream",
          "name": "stdout",
          "text": [
            "Cloning into 'HumanDataProject'...\n",
            "remote: Enumerating objects: 332, done.\u001b[K\n",
            "remote: Counting objects: 100% (40/40), done.\u001b[K\n",
            "remote: Compressing objects: 100% (29/29), done.\u001b[K\n",
            "remote: Total 332 (delta 22), reused 26 (delta 11), pack-reused 292\u001b[K\n",
            "Receiving objects: 100% (332/332), 14.11 MiB | 17.40 MiB/s, done.\n",
            "Resolving deltas: 100% (231/231), done.\n"
          ]
        }
      ]
    },
    {
      "cell_type": "code",
      "source": [
        "cd HumanDataProject"
      ],
      "metadata": {
        "colab": {
          "base_uri": "https://localhost:8080/"
        },
        "id": "lkHZKKBkAZ_w",
        "outputId": "3aced32d-8868-412b-d48a-47e136cb8867"
      },
      "execution_count": null,
      "outputs": [
        {
          "output_type": "stream",
          "name": "stdout",
          "text": [
            "/content/HumanDataProject\n"
          ]
        }
      ]
    },
    {
      "cell_type": "code",
      "source": [
        "mkdir results"
      ],
      "metadata": {
        "id": "etJtQH40gZJd"
      },
      "execution_count": null,
      "outputs": []
    },
    {
      "cell_type": "code",
      "source": [
        "mkdir saved_model"
      ],
      "metadata": {
        "id": "Pgh-FtZtga-a"
      },
      "execution_count": null,
      "outputs": []
    },
    {
      "cell_type": "markdown",
      "source": [
        "## Training different architectures"
      ],
      "metadata": {
        "id": "L_FBJ1EDAewI"
      }
    },
    {
      "cell_type": "code",
      "source": [
        "from hda.preprocessor import *\n",
        "from hda.models.model import *\n",
        "from hda.models.base_model import *\n",
        "from hda.constants import *\n",
        "from hda.utils import *"
      ],
      "metadata": {
        "id": "F0TFPkerAaff"
      },
      "execution_count": null,
      "outputs": []
    },
    {
      "cell_type": "code",
      "source": [
        "import tensorflow as tf\n",
        "import numpy as np\n",
        "import seaborn as sns\n",
        "import time\n",
        "\n",
        "from matplotlib import pyplot as plt\n",
        "from sklearn.metrics import confusion_matrix\n",
        "from sklearn.utils.class_weight import compute_class_weight\n",
        "\n",
        "\n",
        "print(\"Num GPUs Available: \", len(tf.config.list_physical_devices('GPU')))\n",
        "print(\"GPU:\", tf.config.list_physical_devices('GPU'))"
      ],
      "metadata": {
        "colab": {
          "base_uri": "https://localhost:8080/"
        },
        "id": "CxIKBVN7Am9B",
        "outputId": "3dd2eb08-fe82-446c-bb05-56d8564abb9a"
      },
      "execution_count": null,
      "outputs": [
        {
          "output_type": "stream",
          "name": "stdout",
          "text": [
            "Num GPUs Available:  1\n",
            "GPU: [PhysicalDevice(name='/physical_device:GPU:0', device_type='GPU')]\n"
          ]
        }
      ]
    },
    {
      "cell_type": "markdown",
      "source": [
        "### Load Config"
      ],
      "metadata": {
        "id": "su4jDSztBKYn"
      }
    },
    {
      "cell_type": "code",
      "source": [
        "config = load_config(\"colab_config.yaml\")\n",
        "batch_size, versions, time_steps, diodes = get_dataset_shape(config)"
      ],
      "metadata": {
        "id": "XgwBbXVYAonQ"
      },
      "execution_count": null,
      "outputs": []
    },
    {
      "cell_type": "markdown",
      "source": [
        "### Preprocess and split into train, val, test sets"
      ],
      "metadata": {
        "id": "sVJY4lwwBOEH"
      }
    },
    {
      "cell_type": "code",
      "source": [
        "preprocessor = Preprocessor(\"colab_config.yaml\")\n",
        "train_dataset, val_dataset, test_dataset = preprocessor.run()"
      ],
      "metadata": {
        "id": "9GHYokGjAtRO",
        "colab": {
          "base_uri": "https://localhost:8080/"
        },
        "outputId": "8f800c1c-bb32-4fb5-8f50-df95957e4cc9"
      },
      "execution_count": null,
      "outputs": [
        {
          "output_type": "stream",
          "name": "stderr",
          "text": [
            "get approximate dataset size: 100%|██████████| 29/29 [00:27<00:00,  1.05it/s]\n"
          ]
        },
        {
          "output_type": "stream",
          "name": "stdout",
          "text": [
            "Approximate dataset size: 27641\n"
          ]
        }
      ]
    },
    {
      "cell_type": "code",
      "source": [
        "with tf.device('/device:GPU:0'):\n",
        "  y_train = np.concatenate([np.array([label.numpy()]) for _, label in train_dataset.unbatch()], axis=0)\n",
        "  classes = np.unique(y_train)"
      ],
      "metadata": {
        "id": "4UFFi5MHA4h7",
        "colab": {
          "base_uri": "https://localhost:8080/"
        },
        "outputId": "ca18785d-1b91-45c0-be2c-e7432b852cc9"
      },
      "execution_count": null,
      "outputs": [
        {
          "output_type": "stream",
          "name": "stderr",
          "text": [
            "load segments: 100%|██████████| 2052/2052 [00:00<00:00, 7748.03it/s]\n",
            "load segments: 100%|██████████| 2084/2084 [00:00<00:00, 9811.18it/s] \n",
            "load segments: 100%|██████████| 2076/2076 [00:00<00:00, 7602.49it/s]\n",
            "load segments: 100%|██████████| 2074/2074 [00:00<00:00, 9608.25it/s]\n",
            "load segments: 100%|██████████| 2312/2312 [00:00<00:00, 9701.48it/s] \n",
            "load segments: 100%|██████████| 2076/2076 [00:00<00:00, 9981.31it/s] \n",
            "load segments: 100%|██████████| 2073/2073 [00:00<00:00, 9881.45it/s] \n",
            "load segments: 100%|██████████| 2068/2068 [00:00<00:00, 9527.21it/s] \n",
            "load segments: 100%|██████████| 2310/2310 [00:00<00:00, 10145.91it/s]\n",
            "load segments: 100%|██████████| 2069/2069 [00:00<00:00, 8573.87it/s] \n",
            "load segments: 100%|██████████| 2073/2073 [00:00<00:00, 8710.85it/s] \n",
            "load segments: 100%|██████████| 2073/2073 [00:00<00:00, 8524.89it/s] \n",
            "load segments: 100%|██████████| 2081/2081 [00:00<00:00, 10101.83it/s]\n",
            "load segments: 100%|██████████| 2295/2295 [00:00<00:00, 10955.96it/s]\n",
            "load segments: 100%|██████████| 2062/2062 [00:00<00:00, 9899.77it/s] \n",
            "load segments: 100%|██████████| 2889/2889 [00:00<00:00, 11784.57it/s]\n",
            "load segments: 100%|██████████| 2066/2066 [00:00<00:00, 8924.23it/s] \n",
            "load segments: 100%|██████████| 2118/2118 [00:00<00:00, 10136.43it/s]\n",
            "load segments: 100%|██████████| 2294/2294 [00:00<00:00, 10011.02it/s]\n",
            "load segments: 100%|██████████| 2064/2064 [00:00<00:00, 9074.56it/s] \n",
            "load segments: 100%|██████████| 2072/2072 [00:00<00:00, 9841.78it/s] \n",
            "load segments: 100%|██████████| 2072/2072 [00:00<00:00, 9162.16it/s] \n",
            "load segments: 100%|██████████| 2060/2060 [00:00<00:00, 10054.36it/s]\n",
            "load segments: 100%|██████████| 2306/2306 [00:00<00:00, 11070.51it/s]\n",
            "load segments: 100%|██████████| 2138/2138 [00:00<00:00, 9449.55it/s] \n",
            "load segments: 100%|██████████| 1929/1929 [00:00<00:00, 10128.09it/s]\n",
            "load segments: 100%|██████████| 2070/2070 [00:00<00:00, 9982.68it/s] \n",
            "load segments: 100%|██████████| 2054/2054 [00:00<00:00, 9908.72it/s] \n",
            "load segments: 100%|██████████| 2257/2257 [00:00<00:00, 9881.12it/s]\n"
          ]
        }
      ]
    },
    {
      "cell_type": "markdown",
      "source": [
        "### Define the models"
      ],
      "metadata": {
        "id": "HwL26-P3Batm"
      }
    },
    {
      "cell_type": "code",
      "source": [
        "print(config['epochs'])\n",
        "fit_args = {\n",
        "        \"x\": train_dataset,\n",
        "        \"epochs\": config['epochs'],\n",
        "        \"validation_data\": val_dataset,\n",
        "    }\n",
        "\n",
        "if config['with_weights']:\n",
        "    class_weights = compute_class_weight(class_weight='balanced', classes=classes, y=y_train)\n",
        "    class_weight_dict = dict(zip(classes, class_weights))\n",
        "    fit_args['class_weight'] = class_weight_dict"
      ],
      "metadata": {
        "id": "P1TPiPZrBHxA",
        "colab": {
          "base_uri": "https://localhost:8080/"
        },
        "outputId": "e7a775ca-fdf2-4146-d190-287332a6f5e1"
      },
      "execution_count": null,
      "outputs": [
        {
          "output_type": "stream",
          "name": "stdout",
          "text": [
            "30\n"
          ]
        }
      ]
    },
    {
      "cell_type": "markdown",
      "source": [
        "#### Run all the models"
      ],
      "metadata": {
        "id": "bbf7TKxCBk0x"
      }
    },
    {
      "cell_type": "code",
      "source": [
        "with tf.device('/device:GPU:0'):\n",
        "      name = \"Simple\"\n",
        "      model = TimeSeriesModelSimple(diodes, config['convolutions_conf'], config['dense_conf'])\n",
        "\n",
        "      fit_args[\"experiment_name\"] = f\"{name}\"\n",
        "\n",
        "      # Instantiate the model\n",
        "      model.build(input_shape=(batch_size, versions, time_steps, diodes))\n",
        "\n",
        "      # Wrap the model with WandbKerasModel\n",
        "      wandb_model = WandbKerasModel(\n",
        "          model=model, project_name=\"hda-big-3\", config={}, entity=\"bdma\"\n",
        "      )\n",
        "      # Model summary to check the architecture\n",
        "      wandb_model.model.summary()\n",
        "\n",
        "      # Compile and fit the model\n",
        "      start_time = time.time()\n",
        "      wandb_model.compile_and_fit(\n",
        "          compile_args={\n",
        "              \"optimizer\": \"adam\",\n",
        "              \"loss\": \"sparse_categorical_crossentropy\",\n",
        "              \"metrics\": [\"accuracy\"],\n",
        "          },\n",
        "          fit_args=fit_args,\n",
        "          config_path='colab_config.yaml'\n",
        "      )\n",
        "      end_time = time.time() - start_time\n",
        "      print(f\"Training time of {config['epochs']} epochs, running for: {end_time} seconds\")\n",
        "\n",
        "      # Evaluate the model on the test set and print the confusion matrix\n",
        "      predict_and_plot(wandb_model, test_dataset, config, title=f\"{name}\")\n",
        "\n",
        "      wandb_model.finish_experiment()\n",
        "\n",
        "      del wandb_model\n",
        "      del model"
      ],
      "metadata": {
        "id": "ImaNF6mED-_W",
        "colab": {
          "base_uri": "https://localhost:8080/",
          "height": 1000,
          "referenced_widgets": [
            "a471117e3248444682d2de6c2d22c4a8",
            "36e5e4ce529848899a669e75e9ee883a",
            "52db7e081bcf450f9cc6b717c78befd7",
            "537660d375394281975630270bc2cfcb",
            "ba5931f6c6b84e8db38baddc1051ab6a",
            "db7c50b01d9b4fd8b9e7d586f7c1a0cc",
            "9c528cb76c1848a8b4f7911f4c91847c",
            "6952bef68596445e8234127d3510d0d8",
            "857afccc3c2f45f2a11043a59d16e394",
            "d2819d95636e4a4fae1d418952436bf9",
            "ad211b5ba40945d0b50dd03a1ab09ce8",
            "2671af304fa64661ad382f99ad12077a",
            "8cb5008c357e4cbd89f0985c4918fb43",
            "dc45a58ad46b476ba0045a06f0358a08",
            "8c6c8b6e85054cf999f47f6a7f3e5614",
            "641c35ee97b44b8d8e151f23993bf336"
          ]
        },
        "outputId": "a3a69fb2-ae2f-47bc-a80a-2dbc79a9992d"
      },
      "execution_count": null,
      "outputs": [
        {
          "output_type": "stream",
          "name": "stdout",
          "text": [
            "Model: \"time_series_model_simple\"\n",
            "_________________________________________________________________\n",
            " Layer (type)                Output Shape              Param #   \n",
            "=================================================================\n",
            " windows_convolution_layer   multiple                  7812      \n",
            " (WindowsConvolutionLayer)                                       \n",
            "                                                                 \n",
            " dense_layer (DenseLayer)    multiple                  3032294   \n",
            "                                                                 \n",
            "=================================================================\n",
            "Total params: 3040106 (11.60 MB)\n",
            "Trainable params: 3040106 (11.60 MB)\n",
            "Non-trainable params: 0 (0.00 Byte)\n",
            "_________________________________________________________________\n"
          ]
        },
        {
          "output_type": "stream",
          "name": "stderr",
          "text": [
            "\u001b[34m\u001b[1mwandb\u001b[0m: Currently logged in as: \u001b[33msatriabw\u001b[0m (\u001b[33mbdma\u001b[0m). Use \u001b[1m`wandb login --relogin`\u001b[0m to force relogin\n"
          ]
        },
        {
          "output_type": "display_data",
          "data": {
            "text/plain": [
              "VBox(children=(Label(value='Waiting for wandb.init()...\\r'), FloatProgress(value=0.011112861377776223, max=1.0…"
            ],
            "application/vnd.jupyter.widget-view+json": {
              "version_major": 2,
              "version_minor": 0,
              "model_id": "a471117e3248444682d2de6c2d22c4a8"
            }
          },
          "metadata": {}
        },
        {
          "output_type": "display_data",
          "data": {
            "text/plain": [
              "<IPython.core.display.HTML object>"
            ],
            "text/html": [
              "Tracking run with wandb version 0.16.3"
            ]
          },
          "metadata": {}
        },
        {
          "output_type": "display_data",
          "data": {
            "text/plain": [
              "<IPython.core.display.HTML object>"
            ],
            "text/html": [
              "Run data is saved locally in <code>/content/HumanDataProject/wandb/run-20240216_230414-j0kb53bw</code>"
            ]
          },
          "metadata": {}
        },
        {
          "output_type": "display_data",
          "data": {
            "text/plain": [
              "<IPython.core.display.HTML object>"
            ],
            "text/html": [
              "Syncing run <strong><a href='https://wandb.ai/bdma/hda-big-3/runs/j0kb53bw' target=\"_blank\">Simple</a></strong> to <a href='https://wandb.ai/bdma/hda-big-3' target=\"_blank\">Weights & Biases</a> (<a href='https://wandb.me/run' target=\"_blank\">docs</a>)<br/>"
            ]
          },
          "metadata": {}
        },
        {
          "output_type": "display_data",
          "data": {
            "text/plain": [
              "<IPython.core.display.HTML object>"
            ],
            "text/html": [
              " View project at <a href='https://wandb.ai/bdma/hda-big-3' target=\"_blank\">https://wandb.ai/bdma/hda-big-3</a>"
            ]
          },
          "metadata": {}
        },
        {
          "output_type": "display_data",
          "data": {
            "text/plain": [
              "<IPython.core.display.HTML object>"
            ],
            "text/html": [
              " View run at <a href='https://wandb.ai/bdma/hda-big-3/runs/j0kb53bw' target=\"_blank\">https://wandb.ai/bdma/hda-big-3/runs/j0kb53bw</a>"
            ]
          },
          "metadata": {}
        },
        {
          "output_type": "stream",
          "name": "stdout",
          "text": [
            "Epoch 1/30\n",
            "30/30 [==============================] - 46s 463ms/step - loss: 1.8956 - accuracy: 0.2174 - val_loss: 1.7103 - val_accuracy: 0.2818\n",
            "Epoch 2/30\n",
            "30/30 [==============================] - 8s 181ms/step - loss: 1.6693 - accuracy: 0.2763 - val_loss: 1.6217 - val_accuracy: 0.2964\n",
            "Epoch 3/30\n",
            "30/30 [==============================] - 7s 183ms/step - loss: 1.5929 - accuracy: 0.3180 - val_loss: 1.5315 - val_accuracy: 0.3533\n",
            "Epoch 4/30\n",
            "30/30 [==============================] - 7s 184ms/step - loss: 1.4661 - accuracy: 0.4073 - val_loss: 1.3421 - val_accuracy: 0.4818\n",
            "Epoch 5/30\n",
            "30/30 [==============================] - 7s 183ms/step - loss: 1.2679 - accuracy: 0.5085 - val_loss: 1.1717 - val_accuracy: 0.5500\n",
            "Epoch 6/30\n",
            "30/30 [==============================] - 7s 190ms/step - loss: 1.1711 - accuracy: 0.5527 - val_loss: 1.1376 - val_accuracy: 0.5668\n",
            "Epoch 7/30\n",
            "30/30 [==============================] - 7s 186ms/step - loss: 1.0977 - accuracy: 0.5862 - val_loss: 1.0800 - val_accuracy: 0.5842\n",
            "Epoch 8/30\n",
            "30/30 [==============================] - 7s 187ms/step - loss: 1.0539 - accuracy: 0.6016 - val_loss: 0.9783 - val_accuracy: 0.6381\n",
            "Epoch 9/30\n",
            "30/30 [==============================] - 7s 183ms/step - loss: 1.0007 - accuracy: 0.6243 - val_loss: 0.9760 - val_accuracy: 0.6357\n",
            "Epoch 10/30\n",
            "30/30 [==============================] - 7s 173ms/step - loss: 0.9831 - accuracy: 0.6335 - val_loss: 0.9350 - val_accuracy: 0.6469\n",
            "Epoch 11/30\n",
            "30/30 [==============================] - 7s 185ms/step - loss: 0.9447 - accuracy: 0.6489 - val_loss: 0.9401 - val_accuracy: 0.6547\n",
            "Epoch 12/30\n",
            "30/30 [==============================] - 7s 182ms/step - loss: 0.9381 - accuracy: 0.6523 - val_loss: 0.8728 - val_accuracy: 0.6810\n",
            "Epoch 13/30\n",
            "30/30 [==============================] - 7s 185ms/step - loss: 0.9211 - accuracy: 0.6589 - val_loss: 0.8432 - val_accuracy: 0.6937\n",
            "Epoch 14/30\n",
            "30/30 [==============================] - 7s 186ms/step - loss: 0.8852 - accuracy: 0.6686 - val_loss: 0.8660 - val_accuracy: 0.6722\n",
            "Epoch 15/30\n",
            "30/30 [==============================] - 7s 184ms/step - loss: 0.8739 - accuracy: 0.6768 - val_loss: 0.8453 - val_accuracy: 0.6879\n",
            "Epoch 16/30\n",
            "30/30 [==============================] - 7s 183ms/step - loss: 0.8528 - accuracy: 0.6818 - val_loss: 0.8695 - val_accuracy: 0.6785\n",
            "Epoch 17/30\n",
            "30/30 [==============================] - 7s 188ms/step - loss: 0.8989 - accuracy: 0.6667 - val_loss: 0.7922 - val_accuracy: 0.7147\n",
            "Epoch 18/30\n",
            "30/30 [==============================] - 7s 186ms/step - loss: 0.8231 - accuracy: 0.6951 - val_loss: 0.7548 - val_accuracy: 0.7275\n",
            "Epoch 19/30\n",
            "30/30 [==============================] - 7s 185ms/step - loss: 0.8125 - accuracy: 0.7028 - val_loss: 0.7825 - val_accuracy: 0.7157\n",
            "Epoch 20/30\n",
            "30/30 [==============================] - 6s 149ms/step - loss: 0.8089 - accuracy: 0.7011 - val_loss: 0.7462 - val_accuracy: 0.7285\n",
            "Epoch 21/30\n",
            "30/30 [==============================] - 7s 183ms/step - loss: 0.7856 - accuracy: 0.7107 - val_loss: 0.7514 - val_accuracy: 0.7238\n",
            "Epoch 22/30\n",
            "30/30 [==============================] - 7s 186ms/step - loss: 0.7749 - accuracy: 0.7152 - val_loss: 0.6940 - val_accuracy: 0.7506\n",
            "Epoch 23/30\n",
            "30/30 [==============================] - 7s 185ms/step - loss: 0.7528 - accuracy: 0.7192 - val_loss: 0.6909 - val_accuracy: 0.7486\n",
            "Epoch 24/30\n",
            "30/30 [==============================] - 6s 163ms/step - loss: 0.7448 - accuracy: 0.7217 - val_loss: 0.6797 - val_accuracy: 0.7492\n",
            "Epoch 25/30\n",
            "30/30 [==============================] - 6s 138ms/step - loss: 0.7344 - accuracy: 0.7265 - val_loss: 0.6630 - val_accuracy: 0.7634\n",
            "Epoch 26/30\n",
            "30/30 [==============================] - 6s 168ms/step - loss: 0.7321 - accuracy: 0.7305 - val_loss: 0.6480 - val_accuracy: 0.7690\n",
            "Epoch 27/30\n",
            "30/30 [==============================] - 7s 185ms/step - loss: 0.7253 - accuracy: 0.7276 - val_loss: 0.6690 - val_accuracy: 0.7579\n",
            "Epoch 28/30\n",
            "30/30 [==============================] - 6s 155ms/step - loss: 0.7086 - accuracy: 0.7385 - val_loss: 0.6108 - val_accuracy: 0.7876\n",
            "Epoch 29/30\n",
            "30/30 [==============================] - 7s 185ms/step - loss: 0.6969 - accuracy: 0.7400 - val_loss: 0.5957 - val_accuracy: 0.7859\n",
            "Epoch 30/30\n",
            "30/30 [==============================] - 7s 184ms/step - loss: 0.7094 - accuracy: 0.7358 - val_loss: 0.6220 - val_accuracy: 0.7773\n",
            "Training time of 30 epochs, running for: 253.18332815170288 seconds\n",
            "19/19 [==============================] - 4s 46ms/step\n",
            "19/19 [==============================] - 0s 7ms/step\n",
            "19/19 [==============================] - 0s 7ms/step\n",
            "19/19 [==============================] - 0s 7ms/step\n",
            "12/12 [==============================] - 1s 76ms/step\n",
            "                               Metric        Value\n",
            "0  Average Prediction Time (s/sample)        0.002\n",
            "1                       Test Accuracy        0.773\n",
            "2                       Test F1-score        0.776\n",
            "3                      Test Precision        0.790\n",
            "4                         Test Recall        0.773\n",
            "5                Number of Parameters  3040106.000\n",
            "6                  Model Weights (MB)       12.292\n",
            "Metrics saved to results/Simple_metrics.csv\n",
            "[[328  20  50  60   3   5]\n",
            " [  8 342  55  15  14   5]\n",
            " [ 29  32 346  12   3  11]\n",
            " [ 25  12  29 400   7   5]\n",
            " [ 12  49  37  33 367   2]\n",
            " [ 11  28  30  20   5 355]]\n"
          ]
        },
        {
          "output_type": "display_data",
          "data": {
            "text/plain": [
              "<Figure size 1000x800 with 2 Axes>"
            ],
            "image/png": "[encoded data removed]"
          },
          "metadata": {}
        },
        {
          "output_type": "display_data",
          "data": {
            "text/plain": [
              "VBox(children=(Label(value='11.726 MB of 11.726 MB uploaded (0.001 MB deduped)\\r'), FloatProgress(value=1.0, m…"
            ],
            "application/vnd.jupyter.widget-view+json": {
              "version_major": 2,
              "version_minor": 0,
              "model_id": "857afccc3c2f45f2a11043a59d16e394"
            }
          },
          "metadata": {}
        },
        {
          "output_type": "display_data",
          "data": {
            "text/plain": [
              "<IPython.core.display.HTML object>"
            ],
            "text/html": [
              "<style>\n",
              "    table.wandb td:nth-child(1) { padding: 0 10px; text-align: left ; width: auto;} td:nth-child(2) {text-align: left ; width: 100%}\n",
              "    .wandb-row { display: flex; flex-direction: row; flex-wrap: wrap; justify-content: flex-start; width: 100% }\n",
              "    .wandb-col { display: flex; flex-direction: column; flex-basis: 100%; flex: 1; padding: 10px; }\n",
              "    </style>\n",
              "<div class=\"wandb-row\"><div class=\"wandb-col\"><h3>Run history:</h3><br/><table class=\"wandb\"><tr><td>Average Prediction Time (s/sample)</td><td>▁</td></tr><tr><td>Model Weights (MB)</td><td>▁</td></tr><tr><td>Number of Parameters</td><td>▁</td></tr><tr><td>Test Accuracy</td><td>▁</td></tr><tr><td>Test F1-score</td><td>▁</td></tr><tr><td>Test Precision</td><td>▁</td></tr><tr><td>Test Recall</td><td>▁</td></tr><tr><td>accuracy</td><td>▁▂▂▄▅▅▆▆▆▇▇▇▇▇▇▇▇▇█▇██████████</td></tr><tr><td>epoch</td><td>▁▁▁▂▂▂▂▃▃▃▃▄▄▄▄▅▅▅▅▆▆▆▆▇▇▇▇███</td></tr><tr><td>loss</td><td>█▇▆▅▄▄▃▃▃▃▂▂▂▂▂▂▂▂▂▂▂▁▁▁▁▁▁▁▁▁</td></tr><tr><td>val_accuracy</td><td>▁▁▂▄▅▅▅▆▆▆▆▇▇▆▇▆▇▇▇▇▇▇▇▇██████</td></tr><tr><td>val_loss</td><td>█▇▇▆▅▄▄▃▃▃▃▃▃▃▃▃▂▂▂▂▂▂▂▂▁▁▁▁▁▁</td></tr></table><br/></div><div class=\"wandb-col\"><h3>Run summary:</h3><br/><table class=\"wandb\"><tr><td>Average Prediction Time (s/sample)</td><td>0.002</td></tr><tr><td>Model Weights (MB)</td><td>12.292</td></tr><tr><td>Number of Parameters</td><td>3040106</td></tr><tr><td>Test Accuracy</td><td>0.773</td></tr><tr><td>Test F1-score</td><td>0.776</td></tr><tr><td>Test Precision</td><td>0.79</td></tr><tr><td>Test Recall</td><td>0.773</td></tr><tr><td>accuracy</td><td>0.73577</td></tr><tr><td>best_epoch</td><td>28</td></tr><tr><td>best_val_loss</td><td>0.5957</td></tr><tr><td>epoch</td><td>29</td></tr><tr><td>loss</td><td>0.7094</td></tr><tr><td>val_accuracy</td><td>0.7773</td></tr><tr><td>val_loss</td><td>0.62198</td></tr></table><br/></div></div>"
            ]
          },
          "metadata": {}
        },
        {
          "output_type": "display_data",
          "data": {
            "text/plain": [
              "<IPython.core.display.HTML object>"
            ],
            "text/html": [
              " View run <strong style=\"color:#cdcd00\">Simple</strong> at: <a href='https://wandb.ai/bdma/hda-big-3/runs/j0kb53bw' target=\"_blank\">https://wandb.ai/bdma/hda-big-3/runs/j0kb53bw</a><br/>Synced 5 W&B file(s), 1 media file(s), 2 artifact file(s) and 0 other file(s)"
            ]
          },
          "metadata": {}
        },
        {
          "output_type": "display_data",
          "data": {
            "text/plain": [
              "<IPython.core.display.HTML object>"
            ],
            "text/html": [
              "Find logs at: <code>./wandb/run-20240216_230414-j0kb53bw/logs</code>"
            ]
          },
          "metadata": {}
        }
      ]
    },
    {
      "cell_type": "code",
      "source": [
        "with tf.device('/device:GPU:0'):\n",
        "      name = \"LSTM\"\n",
        "      model = TimeSeriesModelLSTM(diodes, config['convolutions_conf'], config['dense_conf'], lstm_conf=config['lstm'])\n",
        "\n",
        "      fit_args[\"experiment_name\"] = f\"{name}\"\n",
        "\n",
        "      # Instantiate the model\n",
        "      model.build(input_shape=(batch_size, versions, time_steps, diodes))\n",
        "\n",
        "      # Wrap the model with WandbKerasModel\n",
        "      wandb_model = WandbKerasModel(\n",
        "          model=model, project_name=\"hda-big-3\", config={}, entity=\"bdma\"\n",
        "      )\n",
        "      # Model summary to check the architecture\n",
        "      wandb_model.model.summary()\n",
        "\n",
        "      # Compile and fit the model\n",
        "      start_time = time.time()\n",
        "      wandb_model.compile_and_fit(\n",
        "          compile_args={\n",
        "              \"optimizer\": \"adam\",\n",
        "              \"loss\": \"sparse_categorical_crossentropy\",\n",
        "              \"metrics\": [\"accuracy\"],\n",
        "          },\n",
        "          fit_args=fit_args,\n",
        "          config_path='colab_config.yaml'\n",
        "      )\n",
        "      end_time = time.time() - start_time\n",
        "      print(f\"Training time of {config['epochs']} epochs, running for: {end_time} seconds\")\n",
        "\n",
        "      # Evaluate the model on the test set and print the confusion matrix\n",
        "      predict_and_plot(wandb_model, test_dataset, config, title=f\"{name}\")\n",
        "\n",
        "      wandb_model.finish_experiment()\n",
        "\n",
        "      del wandb_model\n",
        "      del model"
      ],
      "metadata": {
        "id": "LeqAiy0waYLF",
        "colab": {
          "base_uri": "https://localhost:8080/",
          "height": 1000,
          "referenced_widgets": [
            "d41cee910bed443a8345b985894fffd3",
            "cf6ec4d94ed34425a8e8840df66b3fcf",
            "b13c5b5f200c42389a39406589a2f7dc",
            "6b9f1d5481524cbcacb6965195b0da37",
            "7dc262756abe4e5dad92b0b0e01fe952",
            "31994236132a49c29b98da3f0558e306",
            "100601505e0d4a028d7102b7d28b4264",
            "e2b0996e5def467eb2ecf5b1a1c8b5ae"
          ]
        },
        "outputId": "f219f9b4-bd25-4ac9-b12a-317ed6ef2029"
      },
      "execution_count": null,
      "outputs": [
        {
          "output_type": "stream",
          "name": "stdout",
          "text": [
            "Model: \"time_series_model_lstm\"\n",
            "_________________________________________________________________\n",
            " Layer (type)                Output Shape              Param #   \n",
            "=================================================================\n",
            " windows_convolution_layer   multiple                  7812      \n",
            " (WindowsConvolutionLayer)                                       \n",
            "                                                                 \n",
            " lstm (LSTM)                 multiple                  324096    \n",
            "                                                                 \n",
            " dense_layer (DenseLayer)    multiple                  770278    \n",
            "                                                                 \n",
            "=================================================================\n",
            "Total params: 1102186 (4.20 MB)\n",
            "Trainable params: 1102186 (4.20 MB)\n",
            "Non-trainable params: 0 (0.00 Byte)\n",
            "_________________________________________________________________\n"
          ]
        },
        {
          "output_type": "stream",
          "name": "stderr",
          "text": [
            "\u001b[34m\u001b[1mwandb\u001b[0m: Currently logged in as: \u001b[33msatriabw\u001b[0m (\u001b[33mbdma\u001b[0m). Use \u001b[1m`wandb login --relogin`\u001b[0m to force relogin\n"
          ]
        },
        {
          "output_type": "display_data",
          "data": {
            "text/plain": [
              "<IPython.core.display.HTML object>"
            ],
            "text/html": [
              "Tracking run with wandb version 0.16.3"
            ]
          },
          "metadata": {}
        },
        {
          "output_type": "display_data",
          "data": {
            "text/plain": [
              "<IPython.core.display.HTML object>"
            ],
            "text/html": [
              "Run data is saved locally in <code>/content/HumanDataProject/wandb/run-20240216_232021-td922oiv</code>"
            ]
          },
          "metadata": {}
        },
        {
          "output_type": "display_data",
          "data": {
            "text/plain": [
              "<IPython.core.display.HTML object>"
            ],
            "text/html": [
              "Syncing run <strong><a href='https://wandb.ai/bdma/hda-big-3/runs/td922oiv' target=\"_blank\">LSTM</a></strong> to <a href='https://wandb.ai/bdma/hda-big-3' target=\"_blank\">Weights & Biases</a> (<a href='https://wandb.me/run' target=\"_blank\">docs</a>)<br/>"
            ]
          },
          "metadata": {}
        },
        {
          "output_type": "display_data",
          "data": {
            "text/plain": [
              "<IPython.core.display.HTML object>"
            ],
            "text/html": [
              " View project at <a href='https://wandb.ai/bdma/hda-big-3' target=\"_blank\">https://wandb.ai/bdma/hda-big-3</a>"
            ]
          },
          "metadata": {}
        },
        {
          "output_type": "display_data",
          "data": {
            "text/plain": [
              "<IPython.core.display.HTML object>"
            ],
            "text/html": [
              " View run at <a href='https://wandb.ai/bdma/hda-big-3/runs/td922oiv' target=\"_blank\">https://wandb.ai/bdma/hda-big-3/runs/td922oiv</a>"
            ]
          },
          "metadata": {}
        },
        {
          "output_type": "stream",
          "name": "stdout",
          "text": [
            "Epoch 1/30\n",
            "30/30 [==============================] - 48s 473ms/step - loss: 1.5675 - accuracy: 0.3554 - val_loss: 1.4458 - val_accuracy: 0.4307\n",
            "Epoch 2/30\n",
            "30/30 [==============================] - 8s 194ms/step - loss: 1.3112 - accuracy: 0.4989 - val_loss: 1.2691 - val_accuracy: 0.5120\n",
            "Epoch 3/30\n",
            "30/30 [==============================] - 6s 160ms/step - loss: 1.1805 - accuracy: 0.5491 - val_loss: 1.0906 - val_accuracy: 0.5864\n",
            "Epoch 4/30\n",
            "30/30 [==============================] - 7s 195ms/step - loss: 1.0826 - accuracy: 0.5920 - val_loss: 1.0452 - val_accuracy: 0.6107\n",
            "Epoch 5/30\n",
            "30/30 [==============================] - 7s 197ms/step - loss: 1.0391 - accuracy: 0.6078 - val_loss: 0.9676 - val_accuracy: 0.6392\n",
            "Epoch 6/30\n",
            "30/30 [==============================] - 7s 196ms/step - loss: 0.9934 - accuracy: 0.6232 - val_loss: 0.9538 - val_accuracy: 0.6429\n",
            "Epoch 7/30\n",
            "30/30 [==============================] - 7s 201ms/step - loss: 0.9533 - accuracy: 0.6464 - val_loss: 0.8829 - val_accuracy: 0.6698\n",
            "Epoch 8/30\n",
            "30/30 [==============================] - 8s 199ms/step - loss: 0.9140 - accuracy: 0.6544 - val_loss: 0.8521 - val_accuracy: 0.6839\n",
            "Epoch 9/30\n",
            "30/30 [==============================] - 7s 194ms/step - loss: 0.8780 - accuracy: 0.6690 - val_loss: 0.8190 - val_accuracy: 0.6933\n",
            "Epoch 10/30\n",
            "30/30 [==============================] - 8s 199ms/step - loss: 0.8428 - accuracy: 0.6847 - val_loss: 0.8007 - val_accuracy: 0.7015\n",
            "Epoch 11/30\n",
            "30/30 [==============================] - 7s 194ms/step - loss: 0.8209 - accuracy: 0.6917 - val_loss: 0.7872 - val_accuracy: 0.7000\n",
            "Epoch 12/30\n",
            "30/30 [==============================] - 7s 194ms/step - loss: 0.8150 - accuracy: 0.6937 - val_loss: 0.7350 - val_accuracy: 0.7291\n",
            "Epoch 13/30\n",
            "30/30 [==============================] - 7s 197ms/step - loss: 0.8012 - accuracy: 0.6980 - val_loss: 0.7361 - val_accuracy: 0.7216\n",
            "Epoch 14/30\n",
            "30/30 [==============================] - 7s 196ms/step - loss: 0.8031 - accuracy: 0.6980 - val_loss: 0.7642 - val_accuracy: 0.7059\n",
            "Epoch 15/30\n",
            "30/30 [==============================] - 7s 194ms/step - loss: 0.7620 - accuracy: 0.7106 - val_loss: 0.6730 - val_accuracy: 0.7445\n",
            "Epoch 16/30\n",
            "30/30 [==============================] - 7s 172ms/step - loss: 0.7108 - accuracy: 0.7338 - val_loss: 0.6475 - val_accuracy: 0.7597\n",
            "Epoch 17/30\n",
            "30/30 [==============================] - 7s 199ms/step - loss: 0.7335 - accuracy: 0.7206 - val_loss: 0.6514 - val_accuracy: 0.7504\n",
            "Epoch 18/30\n",
            "30/30 [==============================] - 7s 174ms/step - loss: 0.6790 - accuracy: 0.7429 - val_loss: 0.6156 - val_accuracy: 0.7648\n",
            "Epoch 19/30\n",
            "30/30 [==============================] - 7s 196ms/step - loss: 0.6651 - accuracy: 0.7475 - val_loss: 0.5875 - val_accuracy: 0.7848\n",
            "Epoch 20/30\n",
            "30/30 [==============================] - 6s 160ms/step - loss: 0.6730 - accuracy: 0.7434 - val_loss: 0.5766 - val_accuracy: 0.7880\n",
            "Epoch 21/30\n",
            "30/30 [==============================] - 7s 195ms/step - loss: 0.6208 - accuracy: 0.7662 - val_loss: 0.5980 - val_accuracy: 0.7796\n",
            "Epoch 22/30\n",
            "30/30 [==============================] - 7s 194ms/step - loss: 0.6497 - accuracy: 0.7553 - val_loss: 0.5747 - val_accuracy: 0.7824\n",
            "Epoch 23/30\n",
            "30/30 [==============================] - 7s 195ms/step - loss: 0.5866 - accuracy: 0.7796 - val_loss: 0.5063 - val_accuracy: 0.8096\n",
            "Epoch 24/30\n",
            "30/30 [==============================] - 8s 197ms/step - loss: 0.5830 - accuracy: 0.7806 - val_loss: 0.5417 - val_accuracy: 0.7958\n",
            "Epoch 25/30\n",
            "30/30 [==============================] - 6s 154ms/step - loss: 0.5836 - accuracy: 0.7787 - val_loss: 0.4851 - val_accuracy: 0.8206\n",
            "Epoch 26/30\n",
            "30/30 [==============================] - 8s 196ms/step - loss: 0.5693 - accuracy: 0.7835 - val_loss: 0.5180 - val_accuracy: 0.8103\n",
            "Epoch 27/30\n",
            "30/30 [==============================] - 7s 185ms/step - loss: 0.5787 - accuracy: 0.7803 - val_loss: 0.4714 - val_accuracy: 0.8199\n",
            "Epoch 28/30\n",
            "30/30 [==============================] - 6s 148ms/step - loss: 0.5150 - accuracy: 0.8038 - val_loss: 0.4361 - val_accuracy: 0.8451\n",
            "Epoch 29/30\n",
            "30/30 [==============================] - 7s 195ms/step - loss: 0.5356 - accuracy: 0.7979 - val_loss: 0.4398 - val_accuracy: 0.8384\n",
            "Epoch 30/30\n",
            "30/30 [==============================] - 7s 195ms/step - loss: 0.5701 - accuracy: 0.7840 - val_loss: 0.4323 - val_accuracy: 0.8420\n",
            "Training time of 30 epochs, running for: 263.43380665779114 seconds\n",
            "19/19 [==============================] - 4s 47ms/step\n",
            "19/19 [==============================] - 0s 9ms/step\n",
            "19/19 [==============================] - 0s 9ms/step\n",
            "19/19 [==============================] - 0s 9ms/step\n",
            "12/12 [==============================] - 1s 70ms/step\n",
            "                               Metric        Value\n",
            "0  Average Prediction Time (s/sample)        0.002\n",
            "1                       Test Accuracy        0.842\n",
            "2                       Test F1-score        0.842\n",
            "3                      Test Precision        0.842\n",
            "4                         Test Recall        0.842\n",
            "5                Number of Parameters  1102186.000\n",
            "6                  Model Weights (MB)        4.544\n",
            "Metrics saved to results/LSTM_metrics.csv\n",
            "[[373  14  32  35   5   7]\n",
            " [ 12 346  23  18  29  11]\n",
            " [ 20  17 374   7   7   8]\n",
            " [ 30  10  12 399  14  13]\n",
            " [  9  24  10  18 433   6]\n",
            " [  3   6  15  13   9 403]]\n"
          ]
        },
        {
          "output_type": "display_data",
          "data": {
            "text/plain": [
              "<Figure size 1000x800 with 2 Axes>"
            ],
            "image/png": "[encoded data removed]"
          },
          "metadata": {}
        },
        {
          "output_type": "display_data",
          "data": {
            "text/plain": [
              "VBox(children=(Label(value='4.337 MB of 4.337 MB uploaded (0.001 MB deduped)\\r'), FloatProgress(value=1.0, max…"
            ],
            "application/vnd.jupyter.widget-view+json": {
              "version_major": 2,
              "version_minor": 0,
              "model_id": "d41cee910bed443a8345b985894fffd3"
            }
          },
          "metadata": {}
        },
        {
          "output_type": "display_data",
          "data": {
            "text/plain": [
              "<IPython.core.display.HTML object>"
            ],
            "text/html": [
              "<style>\n",
              "    table.wandb td:nth-child(1) { padding: 0 10px; text-align: left ; width: auto;} td:nth-child(2) {text-align: left ; width: 100%}\n",
              "    .wandb-row { display: flex; flex-direction: row; flex-wrap: wrap; justify-content: flex-start; width: 100% }\n",
              "    .wandb-col { display: flex; flex-direction: column; flex-basis: 100%; flex: 1; padding: 10px; }\n",
              "    </style>\n",
              "<div class=\"wandb-row\"><div class=\"wandb-col\"><h3>Run history:</h3><br/><table class=\"wandb\"><tr><td>Average Prediction Time (s/sample)</td><td>▁</td></tr><tr><td>Model Weights (MB)</td><td>▁</td></tr><tr><td>Number of Parameters</td><td>▁</td></tr><tr><td>Test Accuracy</td><td>▁</td></tr><tr><td>Test F1-score</td><td>▁</td></tr><tr><td>Test Precision</td><td>▁</td></tr><tr><td>Test Recall</td><td>▁</td></tr><tr><td>accuracy</td><td>▁▃▄▅▅▅▆▆▆▆▆▆▆▆▇▇▇▇▇▇▇▇████████</td></tr><tr><td>epoch</td><td>▁▁▁▂▂▂▂▃▃▃▃▄▄▄▄▅▅▅▅▆▆▆▆▇▇▇▇███</td></tr><tr><td>loss</td><td>█▆▅▅▄▄▄▄▃▃▃▃▃▃▃▂▂▂▂▂▂▂▁▁▁▁▁▁▁▁</td></tr><tr><td>val_accuracy</td><td>▁▂▄▄▅▅▅▅▅▆▆▆▆▆▆▇▆▇▇▇▇▇▇▇█▇████</td></tr><tr><td>val_loss</td><td>█▇▆▅▅▅▄▄▄▄▃▃▃▃▃▂▃▂▂▂▂▂▂▂▁▂▁▁▁▁</td></tr></table><br/></div><div class=\"wandb-col\"><h3>Run summary:</h3><br/><table class=\"wandb\"><tr><td>Average Prediction Time (s/sample)</td><td>0.002</td></tr><tr><td>Model Weights (MB)</td><td>4.544</td></tr><tr><td>Number of Parameters</td><td>1102186</td></tr><tr><td>Test Accuracy</td><td>0.842</td></tr><tr><td>Test F1-score</td><td>0.842</td></tr><tr><td>Test Precision</td><td>0.842</td></tr><tr><td>Test Recall</td><td>0.842</td></tr><tr><td>accuracy</td><td>0.78395</td></tr><tr><td>best_epoch</td><td>29</td></tr><tr><td>best_val_loss</td><td>0.43231</td></tr><tr><td>epoch</td><td>29</td></tr><tr><td>loss</td><td>0.57006</td></tr><tr><td>val_accuracy</td><td>0.84202</td></tr><tr><td>val_loss</td><td>0.43231</td></tr></table><br/></div></div>"
            ]
          },
          "metadata": {}
        },
        {
          "output_type": "display_data",
          "data": {
            "text/plain": [
              "<IPython.core.display.HTML object>"
            ],
            "text/html": [
              " View run <strong style=\"color:#cdcd00\">LSTM</strong> at: <a href='https://wandb.ai/bdma/hda-big-3/runs/td922oiv' target=\"_blank\">https://wandb.ai/bdma/hda-big-3/runs/td922oiv</a><br/>Synced 5 W&B file(s), 1 media file(s), 2 artifact file(s) and 0 other file(s)"
            ]
          },
          "metadata": {}
        },
        {
          "output_type": "display_data",
          "data": {
            "text/plain": [
              "<IPython.core.display.HTML object>"
            ],
            "text/html": [
              "Find logs at: <code>./wandb/run-20240216_232021-td922oiv/logs</code>"
            ]
          },
          "metadata": {}
        }
      ]
    },
    {
      "cell_type": "code",
      "source": [
        "with tf.device('/device:GPU:0'):\n",
        "      name = \"GRU\"\n",
        "      model = TimeSeriesModelGRU(diodes, config['convolutions_conf'], config['dense_conf'], gru_conf=config['gru'])\n",
        "\n",
        "      fit_args[\"experiment_name\"] = f\"{name}\"\n",
        "\n",
        "      # Instantiate the model\n",
        "      model.build(input_shape=(batch_size, versions, time_steps, diodes))\n",
        "\n",
        "      # Wrap the model with WandbKerasModel\n",
        "      wandb_model = WandbKerasModel(\n",
        "          model=model, project_name=\"hda-big-3\", config={}, entity=\"bdma\"\n",
        "      )\n",
        "      # Model summary to check the architecture\n",
        "      wandb_model.model.summary()\n",
        "\n",
        "      # Compile and fit the model\n",
        "      start_time = time.time()\n",
        "      wandb_model.compile_and_fit(\n",
        "          compile_args={\n",
        "              \"optimizer\": \"adam\",\n",
        "              \"loss\": \"sparse_categorical_crossentropy\",\n",
        "              \"metrics\": [\"accuracy\"],\n",
        "          },\n",
        "          fit_args=fit_args,\n",
        "          config_path='colab_config.yaml'\n",
        "      )\n",
        "      end_time = time.time() - start_time\n",
        "      print(f\"Training time of {config['epochs']} epochs, running for: {end_time} seconds\")\n",
        "\n",
        "      # Evaluate the model on the test set and print the confusion matrix\n",
        "      predict_and_plot(wandb_model, test_dataset, config, title=f\"{name}\")\n",
        "\n",
        "      wandb_model.finish_experiment()\n",
        "\n",
        "      del wandb_model\n",
        "      del model"
      ],
      "metadata": {
        "colab": {
          "base_uri": "https://localhost:8080/",
          "height": 1000,
          "referenced_widgets": [
            "d8782c5a078c48908edf22c31c9ee601",
            "8280b02ecedc4d25ab3958130f77d8e8",
            "4eb03e1f53ea42ca9b94d84221ad0b8c",
            "d58d2cc7f4614a2cb9452ec2cd7d6bea",
            "043aa386ef154966943c377276c84ee0",
            "bde93275067748fda913661db782c08c",
            "7c144efc8855413888d89f713acb51de",
            "3e0988b09a2c46f3b558367d2837bd09"
          ]
        },
        "id": "hQA5zxcNGxB-",
        "outputId": "4bd11a85-2afa-43b3-9649-c4130e4e48fa"
      },
      "execution_count": null,
      "outputs": [
        {
          "output_type": "stream",
          "name": "stdout",
          "text": [
            "Model: \"time_series_model_gru\"\n",
            "_________________________________________________________________\n",
            " Layer (type)                Output Shape              Param #   \n",
            "=================================================================\n",
            " windows_convolution_layer   multiple                  7812      \n",
            " (WindowsConvolutionLayer)                                       \n",
            "                                                                 \n",
            " gru (GRU)                   multiple                  243456    \n",
            "                                                                 \n",
            " dense_layer (DenseLayer)    multiple                  770278    \n",
            "                                                                 \n",
            "=================================================================\n",
            "Total params: 1021546 (3.90 MB)\n",
            "Trainable params: 1021546 (3.90 MB)\n",
            "Non-trainable params: 0 (0.00 Byte)\n",
            "_________________________________________________________________\n"
          ]
        },
        {
          "output_type": "stream",
          "name": "stderr",
          "text": [
            "\u001b[34m\u001b[1mwandb\u001b[0m: Currently logged in as: \u001b[33msatriabw\u001b[0m (\u001b[33mbdma\u001b[0m). Use \u001b[1m`wandb login --relogin`\u001b[0m to force relogin\n"
          ]
        },
        {
          "output_type": "display_data",
          "data": {
            "text/plain": [
              "<IPython.core.display.HTML object>"
            ],
            "text/html": [
              "Tracking run with wandb version 0.16.3"
            ]
          },
          "metadata": {}
        },
        {
          "output_type": "display_data",
          "data": {
            "text/plain": [
              "<IPython.core.display.HTML object>"
            ],
            "text/html": [
              "Run data is saved locally in <code>/content/HumanDataProject/wandb/run-20240216_233200-zrmjuyl8</code>"
            ]
          },
          "metadata": {}
        },
        {
          "output_type": "display_data",
          "data": {
            "text/plain": [
              "<IPython.core.display.HTML object>"
            ],
            "text/html": [
              "Syncing run <strong><a href='https://wandb.ai/bdma/hda-big-3/runs/zrmjuyl8' target=\"_blank\">GRU</a></strong> to <a href='https://wandb.ai/bdma/hda-big-3' target=\"_blank\">Weights & Biases</a> (<a href='https://wandb.me/run' target=\"_blank\">docs</a>)<br/>"
            ]
          },
          "metadata": {}
        },
        {
          "output_type": "display_data",
          "data": {
            "text/plain": [
              "<IPython.core.display.HTML object>"
            ],
            "text/html": [
              " View project at <a href='https://wandb.ai/bdma/hda-big-3' target=\"_blank\">https://wandb.ai/bdma/hda-big-3</a>"
            ]
          },
          "metadata": {}
        },
        {
          "output_type": "display_data",
          "data": {
            "text/plain": [
              "<IPython.core.display.HTML object>"
            ],
            "text/html": [
              " View run at <a href='https://wandb.ai/bdma/hda-big-3/runs/zrmjuyl8' target=\"_blank\">https://wandb.ai/bdma/hda-big-3/runs/zrmjuyl8</a>"
            ]
          },
          "metadata": {}
        },
        {
          "output_type": "stream",
          "name": "stdout",
          "text": [
            "Epoch 1/30\n",
            "30/30 [==============================] - 48s 469ms/step - loss: 1.5826 - accuracy: 0.3585 - val_loss: 1.3736 - val_accuracy: 0.4620\n",
            "Epoch 2/30\n",
            "30/30 [==============================] - 8s 195ms/step - loss: 1.2828 - accuracy: 0.5113 - val_loss: 1.2297 - val_accuracy: 0.5297\n",
            "Epoch 3/30\n",
            "30/30 [==============================] - 7s 198ms/step - loss: 1.1607 - accuracy: 0.5571 - val_loss: 1.0758 - val_accuracy: 0.5896\n",
            "Epoch 4/30\n",
            "30/30 [==============================] - 7s 196ms/step - loss: 1.0666 - accuracy: 0.5961 - val_loss: 1.0100 - val_accuracy: 0.6215\n",
            "Epoch 5/30\n",
            "30/30 [==============================] - 7s 194ms/step - loss: 1.0032 - accuracy: 0.6213 - val_loss: 1.0226 - val_accuracy: 0.6105\n",
            "Epoch 6/30\n",
            "30/30 [==============================] - 7s 194ms/step - loss: 1.0079 - accuracy: 0.6200 - val_loss: 0.9191 - val_accuracy: 0.6570\n",
            "Epoch 7/30\n",
            "30/30 [==============================] - 7s 196ms/step - loss: 0.9506 - accuracy: 0.6419 - val_loss: 0.8890 - val_accuracy: 0.6741\n",
            "Epoch 8/30\n",
            "30/30 [==============================] - 8s 197ms/step - loss: 0.9155 - accuracy: 0.6594 - val_loss: 0.8608 - val_accuracy: 0.6780\n",
            "Epoch 9/30\n",
            "30/30 [==============================] - 7s 194ms/step - loss: 0.8847 - accuracy: 0.6681 - val_loss: 0.8189 - val_accuracy: 0.6897\n",
            "Epoch 10/30\n",
            "30/30 [==============================] - 8s 197ms/step - loss: 0.8582 - accuracy: 0.6799 - val_loss: 0.7767 - val_accuracy: 0.7096\n",
            "Epoch 11/30\n",
            "30/30 [==============================] - 7s 194ms/step - loss: 0.8213 - accuracy: 0.6905 - val_loss: 0.7676 - val_accuracy: 0.7139\n",
            "Epoch 12/30\n",
            "30/30 [==============================] - 7s 189ms/step - loss: 0.8027 - accuracy: 0.6987 - val_loss: 0.7320 - val_accuracy: 0.7317\n",
            "Epoch 13/30\n",
            "30/30 [==============================] - 7s 195ms/step - loss: 0.7885 - accuracy: 0.7110 - val_loss: 0.7308 - val_accuracy: 0.7288\n",
            "Epoch 14/30\n",
            "30/30 [==============================] - 7s 177ms/step - loss: 0.8080 - accuracy: 0.6963 - val_loss: 0.7401 - val_accuracy: 0.7246\n",
            "Epoch 15/30\n",
            "30/30 [==============================] - 6s 168ms/step - loss: 0.7612 - accuracy: 0.7171 - val_loss: 0.7288 - val_accuracy: 0.7287\n",
            "Epoch 16/30\n",
            "30/30 [==============================] - 7s 193ms/step - loss: 0.7479 - accuracy: 0.7197 - val_loss: 0.6822 - val_accuracy: 0.7486\n",
            "Epoch 17/30\n",
            "30/30 [==============================] - 6s 158ms/step - loss: 0.7329 - accuracy: 0.7222 - val_loss: 0.6617 - val_accuracy: 0.7488\n",
            "Epoch 18/30\n",
            "30/30 [==============================] - 8s 195ms/step - loss: 0.6963 - accuracy: 0.7401 - val_loss: 0.6185 - val_accuracy: 0.7668\n",
            "Epoch 19/30\n",
            "30/30 [==============================] - 7s 197ms/step - loss: 0.6697 - accuracy: 0.7455 - val_loss: 0.6033 - val_accuracy: 0.7871\n",
            "Epoch 20/30\n",
            "30/30 [==============================] - 7s 194ms/step - loss: 0.7149 - accuracy: 0.7300 - val_loss: 0.5915 - val_accuracy: 0.7801\n",
            "Epoch 21/30\n",
            "30/30 [==============================] - 7s 194ms/step - loss: 0.6359 - accuracy: 0.7622 - val_loss: 0.5963 - val_accuracy: 0.7754\n",
            "Epoch 22/30\n",
            "30/30 [==============================] - 7s 194ms/step - loss: 0.6270 - accuracy: 0.7605 - val_loss: 0.5507 - val_accuracy: 0.7977\n",
            "Epoch 23/30\n",
            "30/30 [==============================] - 7s 195ms/step - loss: 0.5937 - accuracy: 0.7788 - val_loss: 0.5195 - val_accuracy: 0.8079\n",
            "Epoch 24/30\n",
            "30/30 [==============================] - 7s 197ms/step - loss: 0.6090 - accuracy: 0.7683 - val_loss: 0.5333 - val_accuracy: 0.7983\n",
            "Epoch 25/30\n",
            "30/30 [==============================] - 7s 199ms/step - loss: 0.5846 - accuracy: 0.7800 - val_loss: 0.4816 - val_accuracy: 0.8253\n",
            "Epoch 26/30\n",
            "30/30 [==============================] - 7s 195ms/step - loss: 0.5704 - accuracy: 0.7836 - val_loss: 0.4929 - val_accuracy: 0.8164\n",
            "Epoch 27/30\n",
            "30/30 [==============================] - 7s 196ms/step - loss: 0.5783 - accuracy: 0.7833 - val_loss: 0.4808 - val_accuracy: 0.8172\n",
            "Epoch 28/30\n",
            "30/30 [==============================] - 8s 197ms/step - loss: 0.5358 - accuracy: 0.7979 - val_loss: 0.4202 - val_accuracy: 0.8507\n",
            "Epoch 29/30\n",
            "30/30 [==============================] - 7s 188ms/step - loss: 0.5004 - accuracy: 0.8103 - val_loss: 0.4271 - val_accuracy: 0.8432\n",
            "Epoch 30/30\n",
            "30/30 [==============================] - 6s 171ms/step - loss: 0.5680 - accuracy: 0.7845 - val_loss: 0.4737 - val_accuracy: 0.8207\n",
            "Training time of 30 epochs, running for: 262.9359772205353 seconds\n",
            "19/19 [==============================] - 4s 48ms/step\n",
            "19/19 [==============================] - 0s 10ms/step\n",
            "19/19 [==============================] - 0s 10ms/step\n",
            "19/19 [==============================] - 0s 10ms/step\n",
            "12/12 [==============================] - 1s 77ms/step\n",
            "                               Metric        Value\n",
            "0  Average Prediction Time (s/sample)        0.002\n",
            "1                       Test Accuracy        0.832\n",
            "2                       Test F1-score        0.833\n",
            "3                      Test Precision        0.838\n",
            "4                         Test Recall        0.832\n",
            "5                Number of Parameters  1021546.000\n",
            "6                  Model Weights (MB)        4.222\n",
            "Metrics saved to results/GRU_metrics.csv\n",
            "[[408  21   7  25   4   1]\n",
            " [ 27 331  22  15  44   0]\n",
            " [ 50  23 342   7   8   3]\n",
            " [ 33  10   7 412  12   4]\n",
            " [ 11  29   8  20 429   3]\n",
            " [ 21   8  13  17  11 379]]\n"
          ]
        },
        {
          "output_type": "display_data",
          "data": {
            "text/plain": [
              "<Figure size 1000x800 with 2 Axes>"
            ],
            "image/png": "[encoded data removed]"
          },
          "metadata": {}
        },
        {
          "output_type": "display_data",
          "data": {
            "text/plain": [
              "VBox(children=(Label(value='4.030 MB of 4.030 MB uploaded (0.001 MB deduped)\\r'), FloatProgress(value=1.0, max…"
            ],
            "application/vnd.jupyter.widget-view+json": {
              "version_major": 2,
              "version_minor": 0,
              "model_id": "d8782c5a078c48908edf22c31c9ee601"
            }
          },
          "metadata": {}
        },
        {
          "output_type": "display_data",
          "data": {
            "text/plain": [
              "<IPython.core.display.HTML object>"
            ],
            "text/html": [
              "<style>\n",
              "    table.wandb td:nth-child(1) { padding: 0 10px; text-align: left ; width: auto;} td:nth-child(2) {text-align: left ; width: 100%}\n",
              "    .wandb-row { display: flex; flex-direction: row; flex-wrap: wrap; justify-content: flex-start; width: 100% }\n",
              "    .wandb-col { display: flex; flex-direction: column; flex-basis: 100%; flex: 1; padding: 10px; }\n",
              "    </style>\n",
              "<div class=\"wandb-row\"><div class=\"wandb-col\"><h3>Run history:</h3><br/><table class=\"wandb\"><tr><td>Average Prediction Time (s/sample)</td><td>▁</td></tr><tr><td>Model Weights (MB)</td><td>▁</td></tr><tr><td>Number of Parameters</td><td>▁</td></tr><tr><td>Test Accuracy</td><td>▁</td></tr><tr><td>Test F1-score</td><td>▁</td></tr><tr><td>Test Precision</td><td>▁</td></tr><tr><td>Test Recall</td><td>▁</td></tr><tr><td>accuracy</td><td>▁▃▄▅▅▅▅▆▆▆▆▆▆▆▇▇▇▇▇▇▇▇█▇██████</td></tr><tr><td>epoch</td><td>▁▁▁▂▂▂▂▃▃▃▃▄▄▄▄▅▅▅▅▆▆▆▆▇▇▇▇███</td></tr><tr><td>loss</td><td>█▆▅▅▄▄▄▄▃▃▃▃▃▃▃▃▃▂▂▂▂▂▂▂▂▁▂▁▁▁</td></tr><tr><td>val_accuracy</td><td>▁▂▃▄▄▅▅▅▅▅▆▆▆▆▆▆▆▆▇▇▇▇▇▇█▇▇██▇</td></tr><tr><td>val_loss</td><td>█▇▆▅▅▅▄▄▄▄▄▃▃▃▃▃▃▂▂▂▂▂▂▂▁▂▁▁▁▁</td></tr></table><br/></div><div class=\"wandb-col\"><h3>Run summary:</h3><br/><table class=\"wandb\"><tr><td>Average Prediction Time (s/sample)</td><td>0.002</td></tr><tr><td>Model Weights (MB)</td><td>4.222</td></tr><tr><td>Number of Parameters</td><td>1021546</td></tr><tr><td>Test Accuracy</td><td>0.832</td></tr><tr><td>Test F1-score</td><td>0.833</td></tr><tr><td>Test Precision</td><td>0.838</td></tr><tr><td>Test Recall</td><td>0.832</td></tr><tr><td>accuracy</td><td>0.78447</td></tr><tr><td>best_epoch</td><td>27</td></tr><tr><td>best_val_loss</td><td>0.42024</td></tr><tr><td>epoch</td><td>29</td></tr><tr><td>loss</td><td>0.56796</td></tr><tr><td>val_accuracy</td><td>0.82072</td></tr><tr><td>val_loss</td><td>0.47372</td></tr></table><br/></div></div>"
            ]
          },
          "metadata": {}
        },
        {
          "output_type": "display_data",
          "data": {
            "text/plain": [
              "<IPython.core.display.HTML object>"
            ],
            "text/html": [
              " View run <strong style=\"color:#cdcd00\">GRU</strong> at: <a href='https://wandb.ai/bdma/hda-big-3/runs/zrmjuyl8' target=\"_blank\">https://wandb.ai/bdma/hda-big-3/runs/zrmjuyl8</a><br/>Synced 5 W&B file(s), 1 media file(s), 2 artifact file(s) and 0 other file(s)"
            ]
          },
          "metadata": {}
        },
        {
          "output_type": "display_data",
          "data": {
            "text/plain": [
              "<IPython.core.display.HTML object>"
            ],
            "text/html": [
              "Find logs at: <code>./wandb/run-20240216_233200-zrmjuyl8/logs</code>"
            ]
          },
          "metadata": {}
        }
      ]
    },
    {
      "cell_type": "code",
      "source": [
        "with tf.device('/device:GPU:0'):\n",
        "      name = \"CfC\"\n",
        "      model = TimeSeriesModelCfC(diodes, config['convolutions_conf'], config['dense_conf'], cfc_conf=config['cfc'])\n",
        "      fit_args[\"experiment_name\"] = f\"{name}\"\n",
        "\n",
        "      # Instantiate the model\n",
        "      model.build(input_shape=(batch_size, versions, time_steps, diodes))\n",
        "\n",
        "      # Wrap the model with WandbKerasModel\n",
        "      wandb_model = WandbKerasModel(\n",
        "          model=model, project_name=\"hda-big-3\", config={}, entity=\"bdma\"\n",
        "      )\n",
        "      # Model summary to check the architecture\n",
        "      wandb_model.model.summary()\n",
        "\n",
        "      # Compile and fit the model\n",
        "      start_time = time.time()\n",
        "      wandb_model.compile_and_fit(\n",
        "          compile_args={\n",
        "              \"optimizer\": \"adam\",\n",
        "              \"loss\": \"sparse_categorical_crossentropy\",\n",
        "              \"metrics\": [\"accuracy\"],\n",
        "          },\n",
        "          fit_args=fit_args,\n",
        "          config_path='colab_config.yaml'\n",
        "      )\n",
        "      end_time = time.time() - start_time\n",
        "      print(f\"Training time of {config['epochs']} epochs, running for: {end_time} seconds\")\n",
        "\n",
        "      # Evaluate the model on the test set and print the confusion matrix\n",
        "      predict_and_plot(wandb_model, test_dataset, config, title=f\"{name}\")\n",
        "\n",
        "      wandb_model.finish_experiment()\n",
        "\n",
        "      del wandb_model\n",
        "      del model"
      ],
      "metadata": {
        "colab": {
          "base_uri": "https://localhost:8080/",
          "height": 1000,
          "referenced_widgets": [
            "75ae90dcbd87449b98042c6af298c956",
            "300a79465e8f4c9ca15f7de53209f328",
            "aef248da49e4477cbd9d92e526489406",
            "42fc959e69d74825ba0786322ecc2966",
            "4babf8fb188a410987c7042b366f4878",
            "45dd5d1d2b7648388ef48233bc7ff65f",
            "16669cd0dce243f98bdf778d92dc48e0",
            "44408cb5b0be4e86987a0553aa1707ff",
            "1e0e3c28114f4ab2af4d1933afad4ec8",
            "cdc9fc0d74064ad09c7d13e45feaeee4",
            "a57b62945556405aae65f4149ca34baa",
            "ee410249a31c48d18198a300c4db0c74",
            "6de0feb7eb3d43ddb0f0bada97343827",
            "b73984cb640944ed97e95c076a50a400",
            "f4b9982c8f254f0e9acff689f2a84319",
            "df8572f86f8449369a9d0ecc72a475cf"
          ]
        },
        "id": "hORTxb21H8RW",
        "outputId": "a9093a73-3305-4012-e349-5961926e4cca"
      },
      "execution_count": null,
      "outputs": [
        {
          "output_type": "stream",
          "name": "stdout",
          "text": [
            "Model: \"time_series_model_cf_c\"\n",
            "_________________________________________________________________\n",
            " Layer (type)                Output Shape              Param #   \n",
            "=================================================================\n",
            " windows_convolution_layer   multiple                  7812      \n",
            " (WindowsConvolutionLayer)                                       \n",
            "                                                                 \n",
            " cf_c (CfC)                  multiple                  147072    \n",
            "                                                                 \n",
            " dense_layer (DenseLayer)    multiple                  770278    \n",
            "                                                                 \n",
            "=================================================================\n",
            "Total params: 925162 (3.53 MB)\n",
            "Trainable params: 925162 (3.53 MB)\n",
            "Non-trainable params: 0 (0.00 Byte)\n",
            "_________________________________________________________________\n"
          ]
        },
        {
          "output_type": "stream",
          "name": "stderr",
          "text": [
            "\u001b[34m\u001b[1mwandb\u001b[0m: Currently logged in as: \u001b[33msatriabw\u001b[0m (\u001b[33mbdma\u001b[0m). Use \u001b[1m`wandb login --relogin`\u001b[0m to force relogin\n"
          ]
        },
        {
          "output_type": "display_data",
          "data": {
            "text/plain": [
              "VBox(children=(Label(value='Waiting for wandb.init()...\\r'), FloatProgress(value=0.011112519399999757, max=1.0…"
            ],
            "application/vnd.jupyter.widget-view+json": {
              "version_major": 2,
              "version_minor": 0,
              "model_id": "75ae90dcbd87449b98042c6af298c956"
            }
          },
          "metadata": {}
        },
        {
          "output_type": "display_data",
          "data": {
            "text/plain": [
              "<IPython.core.display.HTML object>"
            ],
            "text/html": [
              "Tracking run with wandb version 0.16.3"
            ]
          },
          "metadata": {}
        },
        {
          "output_type": "display_data",
          "data": {
            "text/plain": [
              "<IPython.core.display.HTML object>"
            ],
            "text/html": [
              "Run data is saved locally in <code>/content/HumanDataProject/wandb/run-20240216_234445-rdb49ccl</code>"
            ]
          },
          "metadata": {}
        },
        {
          "output_type": "display_data",
          "data": {
            "text/plain": [
              "<IPython.core.display.HTML object>"
            ],
            "text/html": [
              "Syncing run <strong><a href='https://wandb.ai/bdma/hda-big-3/runs/rdb49ccl' target=\"_blank\">CfC</a></strong> to <a href='https://wandb.ai/bdma/hda-big-3' target=\"_blank\">Weights & Biases</a> (<a href='https://wandb.me/run' target=\"_blank\">docs</a>)<br/>"
            ]
          },
          "metadata": {}
        },
        {
          "output_type": "display_data",
          "data": {
            "text/plain": [
              "<IPython.core.display.HTML object>"
            ],
            "text/html": [
              " View project at <a href='https://wandb.ai/bdma/hda-big-3' target=\"_blank\">https://wandb.ai/bdma/hda-big-3</a>"
            ]
          },
          "metadata": {}
        },
        {
          "output_type": "display_data",
          "data": {
            "text/plain": [
              "<IPython.core.display.HTML object>"
            ],
            "text/html": [
              " View run at <a href='https://wandb.ai/bdma/hda-big-3/runs/rdb49ccl' target=\"_blank\">https://wandb.ai/bdma/hda-big-3/runs/rdb49ccl</a>"
            ]
          },
          "metadata": {}
        },
        {
          "output_type": "stream",
          "name": "stdout",
          "text": [
            "Epoch 1/30\n",
            "30/30 [==============================] - 54s 638ms/step - loss: 1.5291 - accuracy: 0.3875 - val_loss: 1.3155 - val_accuracy: 0.4849\n",
            "Epoch 2/30\n",
            "30/30 [==============================] - 15s 406ms/step - loss: 1.2670 - accuracy: 0.5108 - val_loss: 1.1757 - val_accuracy: 0.5484\n",
            "Epoch 3/30\n",
            "30/30 [==============================] - 14s 410ms/step - loss: 1.1545 - accuracy: 0.5582 - val_loss: 1.0507 - val_accuracy: 0.6036\n",
            "Epoch 4/30\n",
            "30/30 [==============================] - 14s 413ms/step - loss: 1.0599 - accuracy: 0.5915 - val_loss: 1.0212 - val_accuracy: 0.6121\n",
            "Epoch 5/30\n",
            "30/30 [==============================] - 13s 377ms/step - loss: 1.0125 - accuracy: 0.6195 - val_loss: 0.9452 - val_accuracy: 0.6422\n",
            "Epoch 6/30\n",
            "30/30 [==============================] - 13s 406ms/step - loss: 0.9746 - accuracy: 0.6289 - val_loss: 0.9185 - val_accuracy: 0.6503\n",
            "Epoch 7/30\n",
            "30/30 [==============================] - 14s 412ms/step - loss: 0.9609 - accuracy: 0.6307 - val_loss: 0.8917 - val_accuracy: 0.6595\n",
            "Epoch 8/30\n",
            "30/30 [==============================] - 13s 405ms/step - loss: 0.9193 - accuracy: 0.6521 - val_loss: 0.8254 - val_accuracy: 0.6861\n",
            "Epoch 9/30\n",
            "30/30 [==============================] - 13s 386ms/step - loss: 0.8526 - accuracy: 0.6753 - val_loss: 0.8193 - val_accuracy: 0.6914\n",
            "Epoch 10/30\n",
            "30/30 [==============================] - 14s 413ms/step - loss: 0.8739 - accuracy: 0.6680 - val_loss: 0.7663 - val_accuracy: 0.7137\n",
            "Epoch 11/30\n",
            "30/30 [==============================] - 14s 409ms/step - loss: 0.8085 - accuracy: 0.6924 - val_loss: 0.7538 - val_accuracy: 0.7171\n",
            "Epoch 12/30\n",
            "30/30 [==============================] - 14s 409ms/step - loss: 0.7997 - accuracy: 0.6967 - val_loss: 0.7211 - val_accuracy: 0.7321\n",
            "Epoch 13/30\n",
            "30/30 [==============================] - 14s 408ms/step - loss: 0.7915 - accuracy: 0.6995 - val_loss: 0.6904 - val_accuracy: 0.7375\n",
            "Epoch 14/30\n",
            "30/30 [==============================] - 12s 373ms/step - loss: 0.7576 - accuracy: 0.7110 - val_loss: 0.6681 - val_accuracy: 0.7433\n",
            "Epoch 15/30\n",
            "30/30 [==============================] - 12s 368ms/step - loss: 0.7130 - accuracy: 0.7299 - val_loss: 0.6038 - val_accuracy: 0.7762\n",
            "Epoch 16/30\n",
            "30/30 [==============================] - 13s 404ms/step - loss: 0.6717 - accuracy: 0.7458 - val_loss: 0.5899 - val_accuracy: 0.7785\n",
            "Epoch 17/30\n",
            "30/30 [==============================] - 14s 409ms/step - loss: 0.7147 - accuracy: 0.7263 - val_loss: 0.6094 - val_accuracy: 0.7693\n",
            "Epoch 18/30\n",
            "30/30 [==============================] - 14s 412ms/step - loss: 0.6511 - accuracy: 0.7508 - val_loss: 0.5806 - val_accuracy: 0.7765\n",
            "Epoch 19/30\n",
            "30/30 [==============================] - 14s 409ms/step - loss: 0.6583 - accuracy: 0.7492 - val_loss: 0.5355 - val_accuracy: 0.8054\n",
            "Epoch 20/30\n",
            "30/30 [==============================] - 14s 411ms/step - loss: 0.6279 - accuracy: 0.7628 - val_loss: 0.5195 - val_accuracy: 0.8052\n",
            "Epoch 21/30\n",
            "30/30 [==============================] - 13s 405ms/step - loss: 0.5737 - accuracy: 0.7825 - val_loss: 0.4916 - val_accuracy: 0.8150\n",
            "Epoch 22/30\n",
            "30/30 [==============================] - 13s 395ms/step - loss: 0.6474 - accuracy: 0.7551 - val_loss: 0.5550 - val_accuracy: 0.7926\n",
            "Epoch 23/30\n",
            "30/30 [==============================] - 14s 410ms/step - loss: 0.6984 - accuracy: 0.7326 - val_loss: 0.5260 - val_accuracy: 0.8075\n",
            "Epoch 24/30\n",
            "30/30 [==============================] - 14s 406ms/step - loss: 0.5948 - accuracy: 0.7753 - val_loss: 0.4918 - val_accuracy: 0.8168\n",
            "Epoch 25/30\n",
            "30/30 [==============================] - 13s 376ms/step - loss: 0.5935 - accuracy: 0.7767 - val_loss: 0.4688 - val_accuracy: 0.8289\n",
            "Epoch 26/30\n",
            "30/30 [==============================] - 14s 406ms/step - loss: 0.5432 - accuracy: 0.7956 - val_loss: 0.4309 - val_accuracy: 0.8448\n",
            "Epoch 27/30\n",
            "30/30 [==============================] - 12s 368ms/step - loss: 0.5301 - accuracy: 0.7974 - val_loss: 0.4359 - val_accuracy: 0.8407\n",
            "Epoch 28/30\n",
            "30/30 [==============================] - 12s 368ms/step - loss: 0.5006 - accuracy: 0.8078 - val_loss: 0.3819 - val_accuracy: 0.8609\n",
            "Epoch 29/30\n",
            "30/30 [==============================] - 12s 368ms/step - loss: 0.4930 - accuracy: 0.8124 - val_loss: 0.3687 - val_accuracy: 0.8681\n",
            "Epoch 30/30\n",
            "30/30 [==============================] - 13s 376ms/step - loss: 0.4494 - accuracy: 0.8297 - val_loss: 0.3374 - val_accuracy: 0.8810\n",
            "Training time of 30 epochs, running for: 449.4704735279083 seconds\n",
            "19/19 [==============================] - 3s 46ms/step\n",
            "19/19 [==============================] - 1s 43ms/step\n",
            "19/19 [==============================] - 1s 42ms/step\n",
            "19/19 [==============================] - 1s 42ms/step\n",
            "12/12 [==============================] - 1s 108ms/step\n",
            "                               Metric       Value\n",
            "0  Average Prediction Time (s/sample)       0.003\n",
            "1                       Test Accuracy       0.885\n",
            "2                       Test F1-score       0.885\n",
            "3                      Test Precision       0.886\n",
            "4                         Test Recall       0.885\n",
            "5                Number of Parameters  925162.000\n",
            "6                  Model Weights (MB)       3.841\n",
            "Metrics saved to results/CfC_metrics.csv\n",
            "[[412  11  12  13  12   6]\n",
            " [ 19 376  13   9  15   7]\n",
            " [ 20  11 383   2  11   6]\n",
            " [ 30   3   7 421  14   3]\n",
            " [ 16  16   8   7 448   5]\n",
            " [ 13   8  10   9   3 406]]\n"
          ]
        },
        {
          "output_type": "display_data",
          "data": {
            "text/plain": [
              "<Figure size 1000x800 with 2 Axes>"
            ],
            "image/png": "[encoded data removed]"
          },
          "metadata": {}
        },
        {
          "output_type": "display_data",
          "data": {
            "text/plain": [
              "VBox(children=(Label(value='3.668 MB of 3.682 MB uploaded\\r'), FloatProgress(value=0.9961634536583951, max=1.0…"
            ],
            "application/vnd.jupyter.widget-view+json": {
              "version_major": 2,
              "version_minor": 0,
              "model_id": "1e0e3c28114f4ab2af4d1933afad4ec8"
            }
          },
          "metadata": {}
        },
        {
          "output_type": "display_data",
          "data": {
            "text/plain": [
              "<IPython.core.display.HTML object>"
            ],
            "text/html": [
              "<style>\n",
              "    table.wandb td:nth-child(1) { padding: 0 10px; text-align: left ; width: auto;} td:nth-child(2) {text-align: left ; width: 100%}\n",
              "    .wandb-row { display: flex; flex-direction: row; flex-wrap: wrap; justify-content: flex-start; width: 100% }\n",
              "    .wandb-col { display: flex; flex-direction: column; flex-basis: 100%; flex: 1; padding: 10px; }\n",
              "    </style>\n",
              "<div class=\"wandb-row\"><div class=\"wandb-col\"><h3>Run history:</h3><br/><table class=\"wandb\"><tr><td>Average Prediction Time (s/sample)</td><td>▁</td></tr><tr><td>Model Weights (MB)</td><td>▁</td></tr><tr><td>Number of Parameters</td><td>▁</td></tr><tr><td>Test Accuracy</td><td>▁</td></tr><tr><td>Test F1-score</td><td>▁</td></tr><tr><td>Test Precision</td><td>▁</td></tr><tr><td>Test Recall</td><td>▁</td></tr><tr><td>accuracy</td><td>▁▃▄▄▅▅▅▅▆▅▆▆▆▆▆▇▆▇▇▇▇▇▆▇▇▇▇███</td></tr><tr><td>epoch</td><td>▁▁▁▂▂▂▂▃▃▃▃▄▄▄▄▅▅▅▅▆▆▆▆▇▇▇▇███</td></tr><tr><td>loss</td><td>█▆▆▅▅▄▄▄▄▄▃▃▃▃▃▂▃▂▂▂▂▂▃▂▂▂▂▁▁▁</td></tr><tr><td>val_accuracy</td><td>▁▂▃▃▄▄▄▅▅▅▅▅▅▆▆▆▆▆▇▇▇▆▇▇▇▇▇███</td></tr><tr><td>val_loss</td><td>█▇▆▆▅▅▅▄▄▄▄▄▄▃▃▃▃▃▂▂▂▃▂▂▂▂▂▁▁▁</td></tr></table><br/></div><div class=\"wandb-col\"><h3>Run summary:</h3><br/><table class=\"wandb\"><tr><td>Average Prediction Time (s/sample)</td><td>0.003</td></tr><tr><td>Model Weights (MB)</td><td>3.841</td></tr><tr><td>Number of Parameters</td><td>925162</td></tr><tr><td>Test Accuracy</td><td>0.885</td></tr><tr><td>Test F1-score</td><td>0.885</td></tr><tr><td>Test Precision</td><td>0.886</td></tr><tr><td>Test Recall</td><td>0.885</td></tr><tr><td>accuracy</td><td>0.82972</td></tr><tr><td>best_epoch</td><td>29</td></tr><tr><td>best_val_loss</td><td>0.33742</td></tr><tr><td>epoch</td><td>29</td></tr><tr><td>loss</td><td>0.44944</td></tr><tr><td>val_accuracy</td><td>0.88101</td></tr><tr><td>val_loss</td><td>0.33742</td></tr></table><br/></div></div>"
            ]
          },
          "metadata": {}
        },
        {
          "output_type": "display_data",
          "data": {
            "text/plain": [
              "<IPython.core.display.HTML object>"
            ],
            "text/html": [
              " View run <strong style=\"color:#cdcd00\">CfC</strong> at: <a href='https://wandb.ai/bdma/hda-big-3/runs/rdb49ccl' target=\"_blank\">https://wandb.ai/bdma/hda-big-3/runs/rdb49ccl</a><br/>Synced 5 W&B file(s), 1 media file(s), 2 artifact file(s) and 0 other file(s)"
            ]
          },
          "metadata": {}
        },
        {
          "output_type": "display_data",
          "data": {
            "text/plain": [
              "<IPython.core.display.HTML object>"
            ],
            "text/html": [
              "Find logs at: <code>./wandb/run-20240216_234445-rdb49ccl/logs</code>"
            ]
          },
          "metadata": {}
        }
      ]
    },
    {
      "cell_type": "code",
      "source": [
        "with tf.device('/device:GPU:0'):\n",
        "      name = \"CfCWithNCP\"\n",
        "      model = TimeSeriesModelCfCWithNCP(diodes, config['convolutions_conf'], config['dense_conf'], cfc_conf=config['cfc'], wiring_conf=config['wiring'])\n",
        "      fit_args[\"experiment_name\"] = f\"{name}\"\n",
        "\n",
        "      # Instantiate the model\n",
        "      model.build(input_shape=(batch_size, versions, time_steps, diodes))\n",
        "\n",
        "      # Wrap the model with WandbKerasModel\n",
        "      wandb_model = WandbKerasModel(\n",
        "          model=model, project_name=\"hda-big-3\", config={}, entity=\"bdma\"\n",
        "      )\n",
        "      # Model summary to check the architecture\n",
        "      wandb_model.model.summary()\n",
        "\n",
        "      # Compile and fit the model\n",
        "      start_time = time.time()\n",
        "      wandb_model.compile_and_fit(\n",
        "          compile_args={\n",
        "              \"optimizer\": \"adam\",\n",
        "              \"loss\": \"sparse_categorical_crossentropy\",\n",
        "              \"metrics\": [\"accuracy\"],\n",
        "          },\n",
        "          fit_args=fit_args,\n",
        "          config_path='colab_config.yaml'\n",
        "      )\n",
        "      end_time = time.time() - start_time\n",
        "      print(f\"Training time of {config['epochs']} epochs, running for: {end_time} seconds\")\n",
        "\n",
        "      # Evaluate the model on the test set and print the confusion matrix\n",
        "      predict_and_plot(wandb_model, test_dataset, config, title=f\"{name}\")\n",
        "\n",
        "      wandb_model.finish_experiment()\n",
        "\n",
        "      del wandb_model\n",
        "      del model"
      ],
      "metadata": {
        "colab": {
          "base_uri": "https://localhost:8080/",
          "height": 1000,
          "referenced_widgets": [
            "8f1fdbd888a24c0aaf3175a9b9ea2a3a",
            "6c03956fe1234bfca7fec64c1e9ae8eb",
            "955cf99e93584506b23a41b5b1815537",
            "ffa77c28a876489bbd2d39129d33d446",
            "df62f8a71634425ebb2d32a728db2945",
            "0d123498215447f19e0e2a9d1bca042a",
            "42c9f9ccc9ed46949df9ee7a9f3ae8ef",
            "c9517bdb53c341f39a8272bb995fffa8"
          ]
        },
        "id": "BzRDKArCNYJh",
        "outputId": "8f8a28a3-f5ee-4bbe-ee20-d2d4ea2498e2"
      },
      "execution_count": null,
      "outputs": [
        {
          "output_type": "stream",
          "name": "stdout",
          "text": [
            "Model: \"time_series_model_cf_c_with_ncp\"\n",
            "_________________________________________________________________\n",
            " Layer (type)                Output Shape              Param #   \n",
            "=================================================================\n",
            " windows_convolution_layer   multiple                  7812      \n",
            " (WindowsConvolutionLayer)                                       \n",
            "                                                                 \n",
            " cf_c (CfC)                  multiple                  132096    \n",
            "                                                                 \n",
            " batch_normalization (Batch  multiple                  192       \n",
            " Normalization)                                                  \n",
            "                                                                 \n",
            " dense_layer (DenseLayer)    multiple                  288998    \n",
            "                                                                 \n",
            "=================================================================\n",
            "Total params: 429098 (1.64 MB)\n",
            "Trainable params: 429002 (1.64 MB)\n",
            "Non-trainable params: 96 (384.00 Byte)\n",
            "_________________________________________________________________\n"
          ]
        },
        {
          "output_type": "stream",
          "name": "stderr",
          "text": [
            "\u001b[34m\u001b[1mwandb\u001b[0m: Currently logged in as: \u001b[33msatriabw\u001b[0m (\u001b[33mbdma\u001b[0m). Use \u001b[1m`wandb login --relogin`\u001b[0m to force relogin\n"
          ]
        },
        {
          "output_type": "display_data",
          "data": {
            "text/plain": [
              "<IPython.core.display.HTML object>"
            ],
            "text/html": [
              "Tracking run with wandb version 0.16.3"
            ]
          },
          "metadata": {}
        },
        {
          "output_type": "display_data",
          "data": {
            "text/plain": [
              "<IPython.core.display.HTML object>"
            ],
            "text/html": [
              "Run data is saved locally in <code>/content/HumanDataProject/wandb/run-20240216_235939-jwprf11f</code>"
            ]
          },
          "metadata": {}
        },
        {
          "output_type": "display_data",
          "data": {
            "text/plain": [
              "<IPython.core.display.HTML object>"
            ],
            "text/html": [
              "Syncing run <strong><a href='https://wandb.ai/bdma/hda-big-3/runs/jwprf11f' target=\"_blank\">CfCWithNCP</a></strong> to <a href='https://wandb.ai/bdma/hda-big-3' target=\"_blank\">Weights & Biases</a> (<a href='https://wandb.me/run' target=\"_blank\">docs</a>)<br/>"
            ]
          },
          "metadata": {}
        },
        {
          "output_type": "display_data",
          "data": {
            "text/plain": [
              "<IPython.core.display.HTML object>"
            ],
            "text/html": [
              " View project at <a href='https://wandb.ai/bdma/hda-big-3' target=\"_blank\">https://wandb.ai/bdma/hda-big-3</a>"
            ]
          },
          "metadata": {}
        },
        {
          "output_type": "display_data",
          "data": {
            "text/plain": [
              "<IPython.core.display.HTML object>"
            ],
            "text/html": [
              " View run at <a href='https://wandb.ai/bdma/hda-big-3/runs/jwprf11f' target=\"_blank\">https://wandb.ai/bdma/hda-big-3/runs/jwprf11f</a>"
            ]
          },
          "metadata": {}
        },
        {
          "output_type": "stream",
          "name": "stdout",
          "text": [
            "Epoch 1/30\n",
            "30/30 [==============================] - 68s 990ms/step - loss: 1.5700 - accuracy: 0.3654 - val_loss: 1.7663 - val_accuracy: 0.2747\n",
            "Epoch 2/30\n",
            "30/30 [==============================] - 25s 742ms/step - loss: 1.2982 - accuracy: 0.4982 - val_loss: 1.7709 - val_accuracy: 0.3411\n",
            "Epoch 3/30\n",
            "30/30 [==============================] - 23s 736ms/step - loss: 1.1701 - accuracy: 0.5565 - val_loss: 1.7722 - val_accuracy: 0.4130\n",
            "Epoch 4/30\n",
            "30/30 [==============================] - 23s 738ms/step - loss: 1.0990 - accuracy: 0.5850 - val_loss: 1.7844 - val_accuracy: 0.2866\n",
            "Epoch 5/30\n",
            "30/30 [==============================] - 22s 701ms/step - loss: 1.0586 - accuracy: 0.5981 - val_loss: 1.7679 - val_accuracy: 0.3966\n",
            "Epoch 6/30\n",
            "30/30 [==============================] - 24s 748ms/step - loss: 1.0344 - accuracy: 0.6098 - val_loss: 1.7476 - val_accuracy: 0.4565\n",
            "Epoch 7/30\n",
            "30/30 [==============================] - 24s 743ms/step - loss: 0.9986 - accuracy: 0.6224 - val_loss: 1.6722 - val_accuracy: 0.5460\n",
            "Epoch 8/30\n",
            "30/30 [==============================] - 24s 742ms/step - loss: 0.9805 - accuracy: 0.6311 - val_loss: 1.6355 - val_accuracy: 0.6016\n",
            "Epoch 9/30\n",
            "30/30 [==============================] - 23s 741ms/step - loss: 0.9560 - accuracy: 0.6398 - val_loss: 1.6230 - val_accuracy: 0.5509\n",
            "Epoch 10/30\n",
            "30/30 [==============================] - 22s 700ms/step - loss: 0.9449 - accuracy: 0.6433 - val_loss: 1.5459 - val_accuracy: 0.5590\n",
            "Epoch 11/30\n",
            "30/30 [==============================] - 23s 706ms/step - loss: 0.8957 - accuracy: 0.6636 - val_loss: 1.5272 - val_accuracy: 0.6274\n",
            "Epoch 12/30\n",
            "30/30 [==============================] - 23s 734ms/step - loss: 0.8775 - accuracy: 0.6696 - val_loss: 1.5812 - val_accuracy: 0.5833\n",
            "Epoch 13/30\n",
            "30/30 [==============================] - 23s 740ms/step - loss: 0.8842 - accuracy: 0.6651 - val_loss: 1.5052 - val_accuracy: 0.5986\n",
            "Epoch 14/30\n",
            "30/30 [==============================] - 24s 740ms/step - loss: 0.8899 - accuracy: 0.6655 - val_loss: 1.5471 - val_accuracy: 0.5630\n",
            "Epoch 15/30\n",
            "30/30 [==============================] - 23s 729ms/step - loss: 0.8521 - accuracy: 0.6777 - val_loss: 1.3106 - val_accuracy: 0.6461\n",
            "Epoch 16/30\n",
            "30/30 [==============================] - 24s 739ms/step - loss: 0.8170 - accuracy: 0.6935 - val_loss: 1.1355 - val_accuracy: 0.7063\n",
            "Epoch 17/30\n",
            "30/30 [==============================] - 24s 743ms/step - loss: 0.8444 - accuracy: 0.6779 - val_loss: 1.1058 - val_accuracy: 0.6546\n",
            "Epoch 18/30\n",
            "30/30 [==============================] - 22s 692ms/step - loss: 0.7959 - accuracy: 0.6988 - val_loss: 1.0914 - val_accuracy: 0.6936\n",
            "Epoch 19/30\n",
            "30/30 [==============================] - 24s 744ms/step - loss: 0.7895 - accuracy: 0.6971 - val_loss: 0.8986 - val_accuracy: 0.6995\n",
            "Epoch 20/30\n",
            "30/30 [==============================] - 22s 691ms/step - loss: 0.8011 - accuracy: 0.6971 - val_loss: 0.9708 - val_accuracy: 0.6745\n",
            "Epoch 21/30\n",
            "30/30 [==============================] - 23s 740ms/step - loss: 0.7730 - accuracy: 0.7074 - val_loss: 0.7794 - val_accuracy: 0.7355\n",
            "Epoch 22/30\n",
            "30/30 [==============================] - 23s 737ms/step - loss: 0.7632 - accuracy: 0.7148 - val_loss: 0.7775 - val_accuracy: 0.7182\n",
            "Epoch 23/30\n",
            "30/30 [==============================] - 23s 739ms/step - loss: 0.7624 - accuracy: 0.7118 - val_loss: 0.7843 - val_accuracy: 0.7133\n",
            "Epoch 24/30\n",
            "30/30 [==============================] - 23s 726ms/step - loss: 0.7581 - accuracy: 0.7104 - val_loss: 0.7393 - val_accuracy: 0.7178\n",
            "Epoch 25/30\n",
            "30/30 [==============================] - 24s 746ms/step - loss: 0.7350 - accuracy: 0.7240 - val_loss: 0.8280 - val_accuracy: 0.6906\n",
            "Epoch 26/30\n",
            "30/30 [==============================] - 24s 738ms/step - loss: 0.6996 - accuracy: 0.7347 - val_loss: 0.7179 - val_accuracy: 0.7340\n",
            "Epoch 27/30\n",
            "30/30 [==============================] - 23s 740ms/step - loss: 0.7390 - accuracy: 0.7190 - val_loss: 0.7032 - val_accuracy: 0.7335\n",
            "Epoch 28/30\n",
            "30/30 [==============================] - 23s 710ms/step - loss: 0.6831 - accuracy: 0.7410 - val_loss: 0.6784 - val_accuracy: 0.7391\n",
            "Epoch 29/30\n",
            "30/30 [==============================] - 23s 740ms/step - loss: 0.6785 - accuracy: 0.7415 - val_loss: 0.6700 - val_accuracy: 0.7549\n",
            "Epoch 30/30\n",
            "30/30 [==============================] - 24s 744ms/step - loss: 0.7141 - accuracy: 0.7299 - val_loss: 0.6004 - val_accuracy: 0.7758\n",
            "Training time of 30 epochs, running for: 748.6569209098816 seconds\n",
            "19/19 [==============================] - 5s 127ms/step\n",
            "19/19 [==============================] - 2s 90ms/step\n",
            "19/19 [==============================] - 2s 91ms/step\n",
            "19/19 [==============================] - 2s 90ms/step\n",
            "12/12 [==============================] - 2s 157ms/step\n",
            "                               Metric       Value\n",
            "0  Average Prediction Time (s/sample)       0.005\n",
            "1                       Test Accuracy       0.785\n",
            "2                       Test F1-score       0.786\n",
            "3                      Test Precision       0.795\n",
            "4                         Test Recall       0.785\n",
            "5                Number of Parameters  429098.000\n",
            "6                  Model Weights (MB)       1.871\n",
            "Metrics saved to results/CfCWithNCP_metrics.csv\n",
            "[[390  13  33  23   4   3]\n",
            " [ 31 310  43  14  36   5]\n",
            " [ 36  17 358   7   9   6]\n",
            " [ 71  15  23 348  13   8]\n",
            " [ 22  29  18  19 406   6]\n",
            " [ 26   7  26  17  15 358]]\n"
          ]
        },
        {
          "output_type": "display_data",
          "data": {
            "text/plain": [
              "<Figure size 1000x800 with 2 Axes>"
            ],
            "image/png": "[encoded data removed]"
          },
          "metadata": {}
        },
        {
          "output_type": "display_data",
          "data": {
            "text/plain": [
              "VBox(children=(Label(value='1.788 MB of 1.788 MB uploaded\\r'), FloatProgress(value=1.0, max=1.0)))"
            ],
            "application/vnd.jupyter.widget-view+json": {
              "version_major": 2,
              "version_minor": 0,
              "model_id": "8f1fdbd888a24c0aaf3175a9b9ea2a3a"
            }
          },
          "metadata": {}
        },
        {
          "output_type": "display_data",
          "data": {
            "text/plain": [
              "<IPython.core.display.HTML object>"
            ],
            "text/html": [
              "<style>\n",
              "    table.wandb td:nth-child(1) { padding: 0 10px; text-align: left ; width: auto;} td:nth-child(2) {text-align: left ; width: 100%}\n",
              "    .wandb-row { display: flex; flex-direction: row; flex-wrap: wrap; justify-content: flex-start; width: 100% }\n",
              "    .wandb-col { display: flex; flex-direction: column; flex-basis: 100%; flex: 1; padding: 10px; }\n",
              "    </style>\n",
              "<div class=\"wandb-row\"><div class=\"wandb-col\"><h3>Run history:</h3><br/><table class=\"wandb\"><tr><td>Average Prediction Time (s/sample)</td><td>▁</td></tr><tr><td>Model Weights (MB)</td><td>▁</td></tr><tr><td>Number of Parameters</td><td>▁</td></tr><tr><td>Test Accuracy</td><td>▁</td></tr><tr><td>Test F1-score</td><td>▁</td></tr><tr><td>Test Precision</td><td>▁</td></tr><tr><td>Test Recall</td><td>▁</td></tr><tr><td>accuracy</td><td>▁▃▅▅▅▆▆▆▆▆▇▇▇▇▇▇▇▇▇▇▇█▇▇██████</td></tr><tr><td>epoch</td><td>▁▁▁▂▂▂▂▃▃▃▃▄▄▄▄▅▅▅▅▆▆▆▆▇▇▇▇███</td></tr><tr><td>loss</td><td>█▆▅▄▄▄▄▃▃▃▃▃▃▃▂▂▂▂▂▂▂▂▂▂▁▁▁▁▁▁</td></tr><tr><td>val_accuracy</td><td>▁▂▃▁▃▄▅▆▅▅▆▅▆▅▆▇▆▇▇▇▇▇▇▇▇▇▇▇██</td></tr><tr><td>val_loss</td><td>██████▇▇▇▇▆▇▆▇▅▄▄▄▃▃▂▂▂▂▂▂▂▁▁▁</td></tr></table><br/></div><div class=\"wandb-col\"><h3>Run summary:</h3><br/><table class=\"wandb\"><tr><td>Average Prediction Time (s/sample)</td><td>0.005</td></tr><tr><td>Model Weights (MB)</td><td>1.871</td></tr><tr><td>Number of Parameters</td><td>429098</td></tr><tr><td>Test Accuracy</td><td>0.785</td></tr><tr><td>Test F1-score</td><td>0.786</td></tr><tr><td>Test Precision</td><td>0.795</td></tr><tr><td>Test Recall</td><td>0.785</td></tr><tr><td>accuracy</td><td>0.72986</td></tr><tr><td>best_epoch</td><td>29</td></tr><tr><td>best_val_loss</td><td>0.60037</td></tr><tr><td>epoch</td><td>29</td></tr><tr><td>loss</td><td>0.71406</td></tr><tr><td>val_accuracy</td><td>0.77583</td></tr><tr><td>val_loss</td><td>0.60037</td></tr></table><br/></div></div>"
            ]
          },
          "metadata": {}
        },
        {
          "output_type": "display_data",
          "data": {
            "text/plain": [
              "<IPython.core.display.HTML object>"
            ],
            "text/html": [
              " View run <strong style=\"color:#cdcd00\">CfCWithNCP</strong> at: <a href='https://wandb.ai/bdma/hda-big-3/runs/jwprf11f' target=\"_blank\">https://wandb.ai/bdma/hda-big-3/runs/jwprf11f</a><br/>Synced 5 W&B file(s), 1 media file(s), 2 artifact file(s) and 0 other file(s)"
            ]
          },
          "metadata": {}
        },
        {
          "output_type": "display_data",
          "data": {
            "text/plain": [
              "<IPython.core.display.HTML object>"
            ],
            "text/html": [
              "Find logs at: <code>./wandb/run-20240216_235939-jwprf11f/logs</code>"
            ]
          },
          "metadata": {}
        }
      ]
    },
    {
      "cell_type": "code",
      "source": [
        "with tf.device('/device:GPU:0'):\n",
        "      name = \"VanillaRNN\"\n",
        "      model = TimeSeriesModelVanillaRNN(diodes, config['convolutions_conf'], config['dense_conf'], rnn_conf=config['simple_rnn'])\n",
        "      fit_args[\"experiment_name\"] = f\"{name}\"\n",
        "\n",
        "      # Instantiate the model\n",
        "      model.build(input_shape=(batch_size, versions, time_steps, diodes))\n",
        "\n",
        "      # Wrap the model with WandbKerasModel\n",
        "      wandb_model = WandbKerasModel(\n",
        "          model=model, project_name=\"hda-big-3\", config={}, entity=\"bdma\"\n",
        "      )\n",
        "      # Model summary to check the architecture\n",
        "      wandb_model.model.summary()\n",
        "\n",
        "      # Compile and fit the model\n",
        "      start_time = time.time()\n",
        "      wandb_model.compile_and_fit(\n",
        "          compile_args={\n",
        "              \"optimizer\": \"adam\",\n",
        "              \"loss\": \"sparse_categorical_crossentropy\",\n",
        "              \"metrics\": [\"accuracy\"],\n",
        "          },\n",
        "          fit_args=fit_args,\n",
        "          config_path='colab_config.yaml'\n",
        "      )\n",
        "      end_time = time.time() - start_time\n",
        "      print(f\"Training time of {config['epochs']} epochs, running for: {end_time} seconds\")\n",
        "\n",
        "      # Evaluate the model on the test set and print the confusion matrix\n",
        "      predict_and_plot(wandb_model, test_dataset, config, title=f\"{name}\")\n",
        "\n",
        "      wandb_model.finish_experiment()\n",
        "\n",
        "      del wandb_model\n",
        "      del model"
      ],
      "metadata": {
        "colab": {
          "base_uri": "https://localhost:8080/",
          "height": 1000,
          "referenced_widgets": [
            "62edd67f9ccc4967b46e122990fb1cf8",
            "253086f3e35a42d0bdcc56884761b789",
            "f388206e30044a97b4a1bc45ee6800af",
            "22e5c330bd314701b9deedca4a6a91a7",
            "26bdd975ce5440be92a8243b59cab9a1",
            "02b89068ce104c03b56ab010711b9ca3",
            "dde4a9b7bf714dbab1ef0cc4ce0369c9",
            "ddbf27dd560e41fe84d197d2c584c8ca",
            "2eb8ca845bef458c93c5d12cdb8ef88b",
            "73320313d48d43a98f1c78b02c745213",
            "26da2d7f6b844d29ab177d634d95e596",
            "1eefa678fb9d46379b21f8df1a6533b7",
            "a5329c0436674eeabb687100856efb04",
            "d08db11d8ef34d17946e66e1399dc56c",
            "5e7c5d20ce0a475b9aaeaacca52a7254",
            "7d8302747952458b8bcde1df0fed6475"
          ]
        },
        "id": "aH4yM2ajNf_n",
        "outputId": "e10f90e6-0977-4c61-cfb6-02dbef9f7e43"
      },
      "execution_count": null,
      "outputs": [
        {
          "output_type": "stream",
          "name": "stdout",
          "text": [
            "Model: \"time_series_model_vanilla_rnn\"\n",
            "_________________________________________________________________\n",
            " Layer (type)                Output Shape              Param #   \n",
            "=================================================================\n",
            " windows_convolution_layer   multiple                  7812      \n",
            " (WindowsConvolutionLayer)                                       \n",
            "                                                                 \n",
            " simple_rnn (SimpleRNN)      multiple                  81024     \n",
            "                                                                 \n",
            " dense_layer (DenseLayer)    multiple                  770278    \n",
            "                                                                 \n",
            "=================================================================\n",
            "Total params: 859114 (3.28 MB)\n",
            "Trainable params: 859114 (3.28 MB)\n",
            "Non-trainable params: 0 (0.00 Byte)\n",
            "_________________________________________________________________\n"
          ]
        },
        {
          "output_type": "stream",
          "name": "stderr",
          "text": [
            "\u001b[34m\u001b[1mwandb\u001b[0m: Currently logged in as: \u001b[33msatriabw\u001b[0m (\u001b[33mbdma\u001b[0m). Use \u001b[1m`wandb login --relogin`\u001b[0m to force relogin\n"
          ]
        },
        {
          "output_type": "display_data",
          "data": {
            "text/plain": [
              "VBox(children=(Label(value='Waiting for wandb.init()...\\r'), FloatProgress(value=0.011112436522221793, max=1.0…"
            ],
            "application/vnd.jupyter.widget-view+json": {
              "version_major": 2,
              "version_minor": 0,
              "model_id": "62edd67f9ccc4967b46e122990fb1cf8"
            }
          },
          "metadata": {}
        },
        {
          "output_type": "display_data",
          "data": {
            "text/plain": [
              "<IPython.core.display.HTML object>"
            ],
            "text/html": [
              "Tracking run with wandb version 0.16.3"
            ]
          },
          "metadata": {}
        },
        {
          "output_type": "display_data",
          "data": {
            "text/plain": [
              "<IPython.core.display.HTML object>"
            ],
            "text/html": [
              "Run data is saved locally in <code>/content/HumanDataProject/wandb/run-20240217_001909-gvzba8s4</code>"
            ]
          },
          "metadata": {}
        },
        {
          "output_type": "display_data",
          "data": {
            "text/plain": [
              "<IPython.core.display.HTML object>"
            ],
            "text/html": [
              "Syncing run <strong><a href='https://wandb.ai/bdma/hda-big-3/runs/gvzba8s4' target=\"_blank\">VanillaRNN</a></strong> to <a href='https://wandb.ai/bdma/hda-big-3' target=\"_blank\">Weights & Biases</a> (<a href='https://wandb.me/run' target=\"_blank\">docs</a>)<br/>"
            ]
          },
          "metadata": {}
        },
        {
          "output_type": "display_data",
          "data": {
            "text/plain": [
              "<IPython.core.display.HTML object>"
            ],
            "text/html": [
              " View project at <a href='https://wandb.ai/bdma/hda-big-3' target=\"_blank\">https://wandb.ai/bdma/hda-big-3</a>"
            ]
          },
          "metadata": {}
        },
        {
          "output_type": "display_data",
          "data": {
            "text/plain": [
              "<IPython.core.display.HTML object>"
            ],
            "text/html": [
              " View run at <a href='https://wandb.ai/bdma/hda-big-3/runs/gvzba8s4' target=\"_blank\">https://wandb.ai/bdma/hda-big-3/runs/gvzba8s4</a>"
            ]
          },
          "metadata": {}
        },
        {
          "output_type": "stream",
          "name": "stdout",
          "text": [
            "Epoch 1/30\n",
            "30/30 [==============================] - 50s 567ms/step - loss: 1.6285 - accuracy: 0.3427 - val_loss: 1.5410 - val_accuracy: 0.4018\n",
            "Epoch 2/30\n",
            "30/30 [==============================] - 11s 278ms/step - loss: 1.4018 - accuracy: 0.4634 - val_loss: 1.3380 - val_accuracy: 0.4841\n",
            "Epoch 3/30\n",
            "30/30 [==============================] - 10s 278ms/step - loss: 1.2561 - accuracy: 0.5209 - val_loss: 1.1190 - val_accuracy: 0.5892\n",
            "Epoch 4/30\n",
            "30/30 [==============================] - 10s 281ms/step - loss: 1.1317 - accuracy: 0.5763 - val_loss: 1.1000 - val_accuracy: 0.5868\n",
            "Epoch 5/30\n",
            "30/30 [==============================] - 10s 280ms/step - loss: 1.0813 - accuracy: 0.5937 - val_loss: 0.9949 - val_accuracy: 0.6300\n",
            "Epoch 6/30\n",
            "30/30 [==============================] - 10s 283ms/step - loss: 1.0222 - accuracy: 0.6169 - val_loss: 0.9528 - val_accuracy: 0.6456\n",
            "Epoch 7/30\n",
            "30/30 [==============================] - 9s 250ms/step - loss: 0.9821 - accuracy: 0.6322 - val_loss: 0.9536 - val_accuracy: 0.6397\n",
            "Epoch 8/30\n",
            "30/30 [==============================] - 9s 244ms/step - loss: 0.9692 - accuracy: 0.6322 - val_loss: 0.8798 - val_accuracy: 0.6716\n",
            "Epoch 9/30\n",
            "30/30 [==============================] - 10s 277ms/step - loss: 0.9303 - accuracy: 0.6495 - val_loss: 0.8557 - val_accuracy: 0.6784\n",
            "Epoch 10/30\n",
            "30/30 [==============================] - 10s 285ms/step - loss: 0.8927 - accuracy: 0.6640 - val_loss: 0.8127 - val_accuracy: 0.7015\n",
            "Epoch 11/30\n",
            "30/30 [==============================] - 9s 252ms/step - loss: 0.8572 - accuracy: 0.6782 - val_loss: 0.8414 - val_accuracy: 0.6830\n",
            "Epoch 12/30\n",
            "30/30 [==============================] - 11s 283ms/step - loss: 0.8488 - accuracy: 0.6809 - val_loss: 0.7813 - val_accuracy: 0.7122\n",
            "Epoch 13/30\n",
            "30/30 [==============================] - 10s 283ms/step - loss: 0.8264 - accuracy: 0.6902 - val_loss: 0.7639 - val_accuracy: 0.7143\n",
            "Epoch 14/30\n",
            "30/30 [==============================] - 10s 276ms/step - loss: 0.8347 - accuracy: 0.6833 - val_loss: 0.8022 - val_accuracy: 0.6958\n",
            "Epoch 15/30\n",
            "30/30 [==============================] - 10s 281ms/step - loss: 0.8194 - accuracy: 0.6910 - val_loss: 0.7379 - val_accuracy: 0.7233\n",
            "Epoch 16/30\n",
            "30/30 [==============================] - 10s 279ms/step - loss: 0.7686 - accuracy: 0.7148 - val_loss: 0.7116 - val_accuracy: 0.7338\n",
            "Epoch 17/30\n",
            "30/30 [==============================] - 10s 283ms/step - loss: 0.8017 - accuracy: 0.6947 - val_loss: 0.7103 - val_accuracy: 0.7371\n",
            "Epoch 18/30\n",
            "30/30 [==============================] - 10s 262ms/step - loss: 0.7552 - accuracy: 0.7152 - val_loss: 0.6902 - val_accuracy: 0.7386\n",
            "Epoch 19/30\n",
            "30/30 [==============================] - 10s 277ms/step - loss: 0.7673 - accuracy: 0.7096 - val_loss: 0.6742 - val_accuracy: 0.7535\n",
            "Epoch 20/30\n",
            "30/30 [==============================] - 11s 283ms/step - loss: 0.7518 - accuracy: 0.7191 - val_loss: 0.6903 - val_accuracy: 0.7410\n",
            "Epoch 21/30\n",
            "30/30 [==============================] - 10s 278ms/step - loss: 0.7306 - accuracy: 0.7241 - val_loss: 0.6539 - val_accuracy: 0.7599\n",
            "Epoch 22/30\n",
            "30/30 [==============================] - 9s 258ms/step - loss: 0.7406 - accuracy: 0.7181 - val_loss: 0.6668 - val_accuracy: 0.7514\n",
            "Epoch 23/30\n",
            "30/30 [==============================] - 10s 280ms/step - loss: 0.7317 - accuracy: 0.7260 - val_loss: 0.6207 - val_accuracy: 0.7652\n",
            "Epoch 24/30\n",
            "30/30 [==============================] - 9s 261ms/step - loss: 0.6846 - accuracy: 0.7430 - val_loss: 0.5940 - val_accuracy: 0.7800\n",
            "Epoch 25/30\n",
            "30/30 [==============================] - 8s 231ms/step - loss: 0.6681 - accuracy: 0.7513 - val_loss: 0.6010 - val_accuracy: 0.7778\n",
            "Epoch 26/30\n",
            "30/30 [==============================] - 10s 280ms/step - loss: 0.6681 - accuracy: 0.7492 - val_loss: 0.5603 - val_accuracy: 0.7959\n",
            "Epoch 27/30\n",
            "30/30 [==============================] - 10s 284ms/step - loss: 0.6347 - accuracy: 0.7636 - val_loss: 0.5489 - val_accuracy: 0.7953\n",
            "Epoch 28/30\n",
            "30/30 [==============================] - 11s 284ms/step - loss: 0.6075 - accuracy: 0.7699 - val_loss: 0.6067 - val_accuracy: 0.7748\n",
            "Epoch 29/30\n",
            "30/30 [==============================] - 10s 273ms/step - loss: 0.6595 - accuracy: 0.7532 - val_loss: 0.5212 - val_accuracy: 0.8178\n",
            "Epoch 30/30\n",
            "30/30 [==============================] - 10s 276ms/step - loss: 0.6255 - accuracy: 0.7627 - val_loss: 0.5060 - val_accuracy: 0.8183\n",
            "Training time of 30 epochs, running for: 342.79849648475647 seconds\n",
            "19/19 [==============================] - 3s 25ms/step\n",
            "19/19 [==============================] - 0s 22ms/step\n",
            "19/19 [==============================] - 0s 22ms/step\n",
            "19/19 [==============================] - 0s 23ms/step\n",
            "12/12 [==============================] - 1s 89ms/step\n",
            "                               Metric       Value\n",
            "0  Average Prediction Time (s/sample)       0.002\n",
            "1                       Test Accuracy       0.819\n",
            "2                       Test F1-score       0.819\n",
            "3                      Test Precision       0.819\n",
            "4                         Test Recall       0.819\n",
            "5                Number of Parameters  859114.000\n",
            "6                  Model Weights (MB)       3.572\n",
            "Metrics saved to results/VanillaRNN_metrics.csv\n",
            "[[363  13  33  32   6  19]\n",
            " [ 16 325  23  18  36  21]\n",
            " [ 19  23 364   7   9  11]\n",
            " [ 29  18  12 389  14  16]\n",
            " [  5  30   9  20 426  10]\n",
            " [  7  17  12   7   8 398]]\n"
          ]
        },
        {
          "output_type": "display_data",
          "data": {
            "text/plain": [
              "<Figure size 1000x800 with 2 Axes>"
            ],
            "image/png": "[encoded data removed]"
          },
          "metadata": {}
        },
        {
          "output_type": "display_data",
          "data": {
            "text/plain": [
              "VBox(children=(Label(value='3.410 MB of 3.410 MB uploaded\\r'), FloatProgress(value=1.0, max=1.0)))"
            ],
            "application/vnd.jupyter.widget-view+json": {
              "version_major": 2,
              "version_minor": 0,
              "model_id": "2eb8ca845bef458c93c5d12cdb8ef88b"
            }
          },
          "metadata": {}
        },
        {
          "output_type": "display_data",
          "data": {
            "text/plain": [
              "<IPython.core.display.HTML object>"
            ],
            "text/html": [
              "<style>\n",
              "    table.wandb td:nth-child(1) { padding: 0 10px; text-align: left ; width: auto;} td:nth-child(2) {text-align: left ; width: 100%}\n",
              "    .wandb-row { display: flex; flex-direction: row; flex-wrap: wrap; justify-content: flex-start; width: 100% }\n",
              "    .wandb-col { display: flex; flex-direction: column; flex-basis: 100%; flex: 1; padding: 10px; }\n",
              "    </style>\n",
              "<div class=\"wandb-row\"><div class=\"wandb-col\"><h3>Run history:</h3><br/><table class=\"wandb\"><tr><td>Average Prediction Time (s/sample)</td><td>▁</td></tr><tr><td>Model Weights (MB)</td><td>▁</td></tr><tr><td>Number of Parameters</td><td>▁</td></tr><tr><td>Test Accuracy</td><td>▁</td></tr><tr><td>Test F1-score</td><td>▁</td></tr><tr><td>Test Precision</td><td>▁</td></tr><tr><td>Test Recall</td><td>▁</td></tr><tr><td>accuracy</td><td>▁▃▄▅▅▅▆▆▆▆▆▇▇▇▇▇▇▇▇▇▇▇▇███████</td></tr><tr><td>epoch</td><td>▁▁▁▂▂▂▂▃▃▃▃▄▄▄▄▅▅▅▅▆▆▆▆▇▇▇▇███</td></tr><tr><td>loss</td><td>█▆▅▅▄▄▄▃▃▃▃▃▃▃▂▂▂▂▂▂▂▂▂▂▁▁▁▁▁▁</td></tr><tr><td>val_accuracy</td><td>▁▂▄▄▅▅▅▆▆▆▆▆▆▆▆▇▇▇▇▇▇▇▇▇▇██▇██</td></tr><tr><td>val_loss</td><td>█▇▅▅▄▄▄▄▃▃▃▃▃▃▃▂▂▂▂▂▂▂▂▂▂▁▁▂▁▁</td></tr></table><br/></div><div class=\"wandb-col\"><h3>Run summary:</h3><br/><table class=\"wandb\"><tr><td>Average Prediction Time (s/sample)</td><td>0.002</td></tr><tr><td>Model Weights (MB)</td><td>3.572</td></tr><tr><td>Number of Parameters</td><td>859114</td></tr><tr><td>Test Accuracy</td><td>0.819</td></tr><tr><td>Test F1-score</td><td>0.819</td></tr><tr><td>Test Precision</td><td>0.819</td></tr><tr><td>Test Recall</td><td>0.819</td></tr><tr><td>accuracy</td><td>0.76271</td></tr><tr><td>best_epoch</td><td>29</td></tr><tr><td>best_val_loss</td><td>0.506</td></tr><tr><td>epoch</td><td>29</td></tr><tr><td>loss</td><td>0.62555</td></tr><tr><td>val_accuracy</td><td>0.8183</td></tr><tr><td>val_loss</td><td>0.506</td></tr></table><br/></div></div>"
            ]
          },
          "metadata": {}
        },
        {
          "output_type": "display_data",
          "data": {
            "text/plain": [
              "<IPython.core.display.HTML object>"
            ],
            "text/html": [
              " View run <strong style=\"color:#cdcd00\">VanillaRNN</strong> at: <a href='https://wandb.ai/bdma/hda-big-3/runs/gvzba8s4' target=\"_blank\">https://wandb.ai/bdma/hda-big-3/runs/gvzba8s4</a><br/>Synced 5 W&B file(s), 1 media file(s), 2 artifact file(s) and 0 other file(s)"
            ]
          },
          "metadata": {}
        },
        {
          "output_type": "display_data",
          "data": {
            "text/plain": [
              "<IPython.core.display.HTML object>"
            ],
            "text/html": [
              "Find logs at: <code>./wandb/run-20240217_001909-gvzba8s4/logs</code>"
            ]
          },
          "metadata": {}
        }
      ]
    }
  ]
}